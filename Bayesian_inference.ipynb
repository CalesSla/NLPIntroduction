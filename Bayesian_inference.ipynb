{
 "cells": [
  {
   "cell_type": "markdown",
   "id": "2a46e72c",
   "metadata": {},
   "source": [
    "# Bayesian inference and Naive Bayes classifier for emails"
   ]
  },
  {
   "cell_type": "code",
   "execution_count": 40,
   "id": "6091cfa1",
   "metadata": {},
   "outputs": [],
   "source": [
    "import numpy as np\n",
    "import pandas as pd\n",
    "import os"
   ]
  },
  {
   "cell_type": "code",
   "execution_count": 35,
   "id": "d3a74465",
   "metadata": {},
   "outputs": [
    {
     "data": {
      "text/html": [
       "<div>\n",
       "<style scoped>\n",
       "    .dataframe tbody tr th:only-of-type {\n",
       "        vertical-align: middle;\n",
       "    }\n",
       "\n",
       "    .dataframe tbody tr th {\n",
       "        vertical-align: top;\n",
       "    }\n",
       "\n",
       "    .dataframe thead th {\n",
       "        text-align: right;\n",
       "    }\n",
       "</style>\n",
       "<table border=\"1\" class=\"dataframe\">\n",
       "  <thead>\n",
       "    <tr style=\"text-align: right;\">\n",
       "      <th></th>\n",
       "      <th>label</th>\n",
       "      <th>sms_message</th>\n",
       "    </tr>\n",
       "  </thead>\n",
       "  <tbody>\n",
       "    <tr>\n",
       "      <th>0</th>\n",
       "      <td>ham</td>\n",
       "      <td>Go until jurong point, crazy.. Available only ...</td>\n",
       "    </tr>\n",
       "    <tr>\n",
       "      <th>1</th>\n",
       "      <td>ham</td>\n",
       "      <td>Ok lar... Joking wif u oni...</td>\n",
       "    </tr>\n",
       "    <tr>\n",
       "      <th>2</th>\n",
       "      <td>spam</td>\n",
       "      <td>Free entry in 2 a wkly comp to win FA Cup fina...</td>\n",
       "    </tr>\n",
       "    <tr>\n",
       "      <th>3</th>\n",
       "      <td>ham</td>\n",
       "      <td>U dun say so early hor... U c already then say...</td>\n",
       "    </tr>\n",
       "    <tr>\n",
       "      <th>4</th>\n",
       "      <td>ham</td>\n",
       "      <td>Nah I don't think he goes to usf, he lives aro...</td>\n",
       "    </tr>\n",
       "  </tbody>\n",
       "</table>\n",
       "</div>"
      ],
      "text/plain": [
       "  label                                        sms_message\n",
       "0   ham  Go until jurong point, crazy.. Available only ...\n",
       "1   ham                      Ok lar... Joking wif u oni...\n",
       "2  spam  Free entry in 2 a wkly comp to win FA Cup fina...\n",
       "3   ham  U dun say so early hor... U c already then say...\n",
       "4   ham  Nah I don't think he goes to usf, he lives aro..."
      ]
     },
     "execution_count": 35,
     "metadata": {},
     "output_type": "execute_result"
    }
   ],
   "source": [
    "# Read dataset\n",
    "\n",
    "df = pd.read_table(os.path.join('smsspamcollection', 'SMSSpamCollection'), sep = '\\t', names = ['label','sms_message'])\n",
    "df.head()"
   ]
  },
  {
   "cell_type": "code",
   "execution_count": 39,
   "id": "2a245e38",
   "metadata": {},
   "outputs": [
    {
     "name": "stdout",
     "output_type": "stream",
     "text": [
      "(5572, 2)\n"
     ]
    },
    {
     "data": {
      "text/html": [
       "<div>\n",
       "<style scoped>\n",
       "    .dataframe tbody tr th:only-of-type {\n",
       "        vertical-align: middle;\n",
       "    }\n",
       "\n",
       "    .dataframe tbody tr th {\n",
       "        vertical-align: top;\n",
       "    }\n",
       "\n",
       "    .dataframe thead th {\n",
       "        text-align: right;\n",
       "    }\n",
       "</style>\n",
       "<table border=\"1\" class=\"dataframe\">\n",
       "  <thead>\n",
       "    <tr style=\"text-align: right;\">\n",
       "      <th></th>\n",
       "      <th>label</th>\n",
       "      <th>sms_message</th>\n",
       "    </tr>\n",
       "  </thead>\n",
       "  <tbody>\n",
       "    <tr>\n",
       "      <th>0</th>\n",
       "      <td>NaN</td>\n",
       "      <td>Go until jurong point, crazy.. Available only ...</td>\n",
       "    </tr>\n",
       "    <tr>\n",
       "      <th>1</th>\n",
       "      <td>NaN</td>\n",
       "      <td>Ok lar... Joking wif u oni...</td>\n",
       "    </tr>\n",
       "    <tr>\n",
       "      <th>2</th>\n",
       "      <td>NaN</td>\n",
       "      <td>Free entry in 2 a wkly comp to win FA Cup fina...</td>\n",
       "    </tr>\n",
       "    <tr>\n",
       "      <th>3</th>\n",
       "      <td>NaN</td>\n",
       "      <td>U dun say so early hor... U c already then say...</td>\n",
       "    </tr>\n",
       "    <tr>\n",
       "      <th>4</th>\n",
       "      <td>NaN</td>\n",
       "      <td>Nah I don't think he goes to usf, he lives aro...</td>\n",
       "    </tr>\n",
       "  </tbody>\n",
       "</table>\n",
       "</div>"
      ],
      "text/plain": [
       "   label                                        sms_message\n",
       "0    NaN  Go until jurong point, crazy.. Available only ...\n",
       "1    NaN                      Ok lar... Joking wif u oni...\n",
       "2    NaN  Free entry in 2 a wkly comp to win FA Cup fina...\n",
       "3    NaN  U dun say so early hor... U c already then say...\n",
       "4    NaN  Nah I don't think he goes to usf, he lives aro..."
      ]
     },
     "execution_count": 39,
     "metadata": {},
     "output_type": "execute_result"
    }
   ],
   "source": [
    "# change label format to numeric\n",
    "\n",
    "df['label'] = df['label'].map({\"ham\":0, \"spam\":1})\n",
    "print(df.shape)\n",
    "df.head()"
   ]
  },
  {
   "cell_type": "markdown",
   "id": "6c45c88f",
   "metadata": {},
   "source": [
    "## Bag of words manual implementation example"
   ]
  },
  {
   "cell_type": "code",
   "execution_count": 70,
   "id": "680981d8",
   "metadata": {},
   "outputs": [
    {
     "data": {
      "text/plain": [
       "['hello, how are you!',\n",
       " 'win money, win from home.',\n",
       " 'call me now.',\n",
       " 'hello, call hello you tomorrow?']"
      ]
     },
     "execution_count": 70,
     "metadata": {},
     "output_type": "execute_result"
    }
   ],
   "source": [
    "# Transorm text to lowercase\n",
    "\n",
    "documents = ['Hello, how are you!',\n",
    "             'Win money, win from home.',\n",
    "             'Call me now.',\n",
    "             'Hello, Call hello you tomorrow?']\n",
    "\n",
    "lower_case_documents = [document.lower() for document in documents]\n",
    "lower_case_documents"
   ]
  },
  {
   "cell_type": "code",
   "execution_count": 71,
   "id": "e21fd314",
   "metadata": {},
   "outputs": [
    {
     "data": {
      "text/plain": [
       "['hello how are you',\n",
       " 'win money win from home',\n",
       " 'call me now',\n",
       " 'hello call hello you tomorrow']"
      ]
     },
     "execution_count": 71,
     "metadata": {},
     "output_type": "execute_result"
    }
   ],
   "source": [
    "# Remove punctuation\n",
    "\n",
    "import re\n",
    "import string\n",
    "\n",
    "# sans_punctuation_documents = [re.sub(r'[^a-zA-Z0-9]', ' ', document).strip() for document in lower_case_documents]\n",
    "# sans_punctuation_documents = [re.sub(r'\\s{2,}', ' ', document) for document in sans_punctuation_documents]\n",
    "\n",
    "sans_punctuation_documents = [document.translate(str.maketrans('','', string.punctuation)) for document in lower_case_documents]\n",
    "sans_punctuation_documents"
   ]
  },
  {
   "cell_type": "code",
   "execution_count": 76,
   "id": "307751c4",
   "metadata": {},
   "outputs": [
    {
     "data": {
      "text/plain": [
       "[['hello', 'how', 'are', 'you'],\n",
       " ['win', 'money', 'win', 'from', 'home'],\n",
       " ['call', 'me', 'now'],\n",
       " ['hello', 'call', 'hello', 'you', 'tomorrow']]"
      ]
     },
     "execution_count": 76,
     "metadata": {},
     "output_type": "execute_result"
    }
   ],
   "source": [
    "# tokenisation\n",
    "\n",
    "preprocessed_documents = [sentence.split() for sentence in sans_punctuation_documents]\n",
    "preprocessed_documents"
   ]
  },
  {
   "cell_type": "code",
   "execution_count": 81,
   "id": "a9a94063",
   "metadata": {},
   "outputs": [
    {
     "data": {
      "text/plain": [
       "[Counter({'hello': 1, 'how': 1, 'are': 1, 'you': 1}),\n",
       " Counter({'win': 2, 'money': 1, 'from': 1, 'home': 1}),\n",
       " Counter({'call': 1, 'me': 1, 'now': 1}),\n",
       " Counter({'hello': 2, 'call': 1, 'you': 1, 'tomorrow': 1})]"
      ]
     },
     "execution_count": 81,
     "metadata": {},
     "output_type": "execute_result"
    }
   ],
   "source": [
    "# count word frequencies\n",
    "\n",
    "import pprint\n",
    "from collections import Counter\n",
    "\n",
    "frequency_list = [Counter(document) for document in preprocessed_documents]\n",
    "frequency_list"
   ]
  },
  {
   "cell_type": "markdown",
   "id": "b42b4770",
   "metadata": {},
   "source": [
    "# Bag of words Sklearn"
   ]
  },
  {
   "cell_type": "code",
   "execution_count": 93,
   "id": "4bd7c3a3",
   "metadata": {},
   "outputs": [
    {
     "data": {
      "text/plain": [
       "['are',\n",
       " 'call',\n",
       " 'from',\n",
       " 'hello',\n",
       " 'home',\n",
       " 'how',\n",
       " 'me',\n",
       " 'money',\n",
       " 'now',\n",
       " 'tomorrow',\n",
       " 'win',\n",
       " 'you']"
      ]
     },
     "execution_count": 93,
     "metadata": {},
     "output_type": "execute_result"
    }
   ],
   "source": [
    "# import vectorizer and fit it to the data\n",
    "\n",
    "from sklearn.feature_extraction.text import CountVectorizer\n",
    "\n",
    "count_vector = CountVectorizer()\n",
    "count_vector.fit(documents)\n",
    "count_vector.get_feature_names()"
   ]
  },
  {
   "cell_type": "code",
   "execution_count": 96,
   "id": "de306fac",
   "metadata": {},
   "outputs": [],
   "source": [
    "doc_array = count_vector.transform(documents).toarray()"
   ]
  },
  {
   "cell_type": "code",
   "execution_count": 97,
   "id": "ad8b44cb",
   "metadata": {},
   "outputs": [
    {
     "data": {
      "text/plain": [
       "array([[1, 0, 0, 1, 0, 1, 0, 0, 0, 0, 0, 1],\n",
       "       [0, 0, 1, 0, 1, 0, 0, 1, 0, 0, 2, 0],\n",
       "       [0, 1, 0, 0, 0, 0, 1, 0, 1, 0, 0, 0],\n",
       "       [0, 1, 0, 2, 0, 0, 0, 0, 0, 1, 0, 1]], dtype=int64)"
      ]
     },
     "execution_count": 97,
     "metadata": {},
     "output_type": "execute_result"
    }
   ],
   "source": [
    "doc_array"
   ]
  },
  {
   "cell_type": "code",
   "execution_count": null,
   "id": "b6b2035c",
   "metadata": {},
   "outputs": [],
   "source": []
  }
 ],
 "metadata": {
  "kernelspec": {
   "display_name": "Python 3 (ipykernel)",
   "language": "python",
   "name": "python3"
  },
  "language_info": {
   "codemirror_mode": {
    "name": "ipython",
    "version": 3
   },
   "file_extension": ".py",
   "mimetype": "text/x-python",
   "name": "python",
   "nbconvert_exporter": "python",
   "pygments_lexer": "ipython3",
   "version": "3.9.7"
  }
 },
 "nbformat": 4,
 "nbformat_minor": 5
}
