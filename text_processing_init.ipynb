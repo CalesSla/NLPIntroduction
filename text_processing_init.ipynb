{
 "cells": [
  {
   "cell_type": "markdown",
   "id": "c805f50b",
   "metadata": {},
   "source": [
    "# Capturing text data"
   ]
  },
  {
   "cell_type": "code",
   "execution_count": 1,
   "id": "10bb3ee8",
   "metadata": {},
   "outputs": [
    {
     "name": "stdout",
     "output_type": "stream",
     "text": [
      "Hieroglyphic writing dates from c. 3000 BC, and is composed of hundreds of symbols. A hieroglyph can represent a word, a sound, or a silent determinative; and the same symbol can serve different purposes in different contexts. Hieroglyphs were a formal script, used on stone monuments and in tombs, that could be as detailed as individual works of art.\n",
      "\n"
     ]
    }
   ],
   "source": [
    "import os\n",
    "\n",
    "with open(os.path.join('data', 'hieroglyph.txt'), 'r') as f:\n",
    "  text = f.read()\n",
    "  print(text)"
   ]
  },
  {
   "cell_type": "code",
   "execution_count": 2,
   "id": "2d84b847",
   "metadata": {},
   "outputs": [
    {
     "data": {
      "text/html": [
       "<div>\n",
       "<style scoped>\n",
       "    .dataframe tbody tr th:only-of-type {\n",
       "        vertical-align: middle;\n",
       "    }\n",
       "\n",
       "    .dataframe tbody tr th {\n",
       "        vertical-align: top;\n",
       "    }\n",
       "\n",
       "    .dataframe thead th {\n",
       "        text-align: right;\n",
       "    }\n",
       "</style>\n",
       "<table border=\"1\" class=\"dataframe\">\n",
       "  <thead>\n",
       "    <tr style=\"text-align: right;\">\n",
       "      <th></th>\n",
       "      <th>publisher</th>\n",
       "      <th>title</th>\n",
       "    </tr>\n",
       "  </thead>\n",
       "  <tbody>\n",
       "    <tr>\n",
       "      <th>0</th>\n",
       "      <td>Livemint</td>\n",
       "      <td>fed's charles plosser sees high bar for change...</td>\n",
       "    </tr>\n",
       "    <tr>\n",
       "      <th>1</th>\n",
       "      <td>IFA Magazine</td>\n",
       "      <td>us open: stocks fall after fed official hints ...</td>\n",
       "    </tr>\n",
       "    <tr>\n",
       "      <th>2</th>\n",
       "      <td>IFA Magazine</td>\n",
       "      <td>fed risks falling 'behind the curve', charles ...</td>\n",
       "    </tr>\n",
       "    <tr>\n",
       "      <th>3</th>\n",
       "      <td>Moneynews</td>\n",
       "      <td>fed's plosser: nasty weather has curbed job gr...</td>\n",
       "    </tr>\n",
       "    <tr>\n",
       "      <th>4</th>\n",
       "      <td>NASDAQ</td>\n",
       "      <td>plosser: fed may have to accelerate tapering pace</td>\n",
       "    </tr>\n",
       "  </tbody>\n",
       "</table>\n",
       "</div>"
      ],
      "text/plain": [
       "      publisher                                              title\n",
       "0      Livemint  fed's charles plosser sees high bar for change...\n",
       "1  IFA Magazine  us open: stocks fall after fed official hints ...\n",
       "2  IFA Magazine  fed risks falling 'behind the curve', charles ...\n",
       "3     Moneynews  fed's plosser: nasty weather has curbed job gr...\n",
       "4        NASDAQ  plosser: fed may have to accelerate tapering pace"
      ]
     },
     "execution_count": 2,
     "metadata": {},
     "output_type": "execute_result"
    }
   ],
   "source": [
    "import pandas as pd\n",
    "\n",
    "df = pd.read_csv(os.path.join('data','news.csv'))\n",
    "\n",
    "df['title'] = df['title'].str.lower()\n",
    "df.head()[['publisher', 'title']]"
   ]
  },
  {
   "cell_type": "code",
   "execution_count": 3,
   "id": "b441b4f2",
   "metadata": {},
   "outputs": [
    {
     "name": "stdout",
     "output_type": "stream",
     "text": [
      "Feeling grateful to or appreciative of someone or something in your life actually attracts more of the things that you appreciate and value into your life. \n",
      "-- Christiane Northrup\n"
     ]
    }
   ],
   "source": [
    "import requests\n",
    "\n",
    "r = requests.get('https://quotes.rest/qod.json')\n",
    "\n",
    "res = r.json()\n",
    "\n",
    "q = res['contents']['quotes'][0]\n",
    "print(q['quote'], '\\n--', q['author'])"
   ]
  },
  {
   "cell_type": "markdown",
   "id": "7ec5718f",
   "metadata": {},
   "source": [
    "# Cleaning"
   ]
  },
  {
   "cell_type": "code",
   "execution_count": 4,
   "id": "b41e6e01",
   "metadata": {},
   "outputs": [
    {
     "name": "stdout",
     "output_type": "stream",
     "text": [
      "<html lang=\"en\" op=\"news\"><head><meta name=\"referrer\" content=\"origin\"><meta name=\"viewport\" content=\"width=device-width, initial-scale=1.0\"><link rel=\"stylesheet\" type=\"text/css\" href=\"news.css?sCHxrvQkfxYHN7U5AkST\">\n",
      "        <link rel=\"shortcut icon\" href=\"favicon.ico\">\n",
      "          <link rel=\"alternate\" type=\"application/rss+xml\" title=\"RSS\" href=\"rss\">\n",
      "        <title>Hacker News</title></head><body><center><table id=\"hnmain\" border=\"0\" cellpadding=\"0\" cellspacing=\"0\" width=\"85%\" bgcolor=\"#f6f6ef\">\n",
      "        <tr><td bgcolor=\"#ff6600\"><table border=\"0\" cellpadding=\"0\" cellspacing=\"0\" width=\"100%\" style=\"padding:2px\"><tr><td style=\"width:18px;padding-right:4px\"><a href=\"https://news.ycombinator.com\"><img src=\"y18.gif\" width=\"18\" height=\"18\" style=\"border:1px white solid;\"></a></td>\n",
      "                  <td style=\"line-height:12pt; height:10px;\"><span class=\"pagetop\"><b class=\"hnname\"><a href=\"news\">Hacker News</a></b>\n",
      "                            <a href=\"newest\">new</a> | <a href=\"front\">past</a> | <a href=\"newcomments\">comments</a> | <a href=\"ask\">ask</a> | <a href=\"show\">show</a> | <a href=\"jobs\">jobs</a> | <a href=\"submit\">submit</a>            </span></td><td style=\"text-align:right;padding-right:4px;\"><span class=\"pagetop\">\n",
      "                              <a href=\"login?goto=news\">login</a>\n",
      "                          </span></td>\n",
      "              </tr></table></td></tr>\n",
      "<tr id=\"pagespace\" title=\"\" style=\"height:10px\"></tr><tr><td><table border=\"0\" cellpadding=\"0\" cellspacing=\"0\">\n",
      "            <tr class='athing' id='34654937'>\n",
      "      <td align=\"right\" valign=\"top\" class=\"title\"><span class=\"rank\">1.</span></td>      <td valign=\"top\" class=\"votelinks\"><center><a id='up_34654937'href='vote?id=34654937&amp;how=up&amp;goto=news'><div class='votearrow' title='upvote'></div></a></center></td><td class=\"title\"><span class=\"titleline\"><a href=\"https://github.com/LAION-AI/Open-Assistant\">Open Assistant – project meant to give everyone access to a great chat based LLM</a><span class=\"sitebit comhead\"> (<a href=\"from?site=github.com/laion-ai\"><span class=\"sitestr\">github.com/laion-ai</span></a>)</span></span></td></tr><tr><td colspan=\"2\"></td><td class=\"subtext\"><span class=\"subline\">\n",
      "          <span class=\"score\" id=\"score_34654937\">460 points</span> by <a href=\"user?id=pps\" class=\"hnuser\">pps</a> <span class=\"age\" title=\"2023-02-04T14:56:35\"><a href=\"item?id=34654937\">5 hours ago</a></span> <span id=\"unv_34654937\"></span> | <a href=\"hide?id=34654937&amp;goto=news\">hide</a> | <a href=\"item?id=34654937\">177&nbsp;comments</a>        </span>\n",
      "              </td></tr>\n",
      "      <tr class=\"spacer\" style=\"height:5px\"></tr>\n",
      "                <tr class='athing' id='34656776'>\n",
      "      <td align=\"right\" valign=\"top\" class=\"title\"><span class=\"rank\">2.</span></td>      <td valign=\"top\" class=\"votelinks\"><center><a id='up_34656776'href='vote?id=34656776&amp;how=up&amp;goto=news'><div class='votearrow' title='upvote'></div></a></center></td><td class=\"title\"><span class=\"titleline\"><a href=\"https://waseem.substack.com/p/scalability-is-overrated\">Scalability Is Overrated</a><span class=\"sitebit comhead\"> (<a href=\"from?site=waseem.substack.com\"><span class=\"sitestr\">waseem.substack.com</span></a>)</span></span></td></tr><tr><td colspan=\"2\"></td><td class=\"subtext\"><span class=\"subline\">\n",
      "          <span class=\"score\" id=\"score_34656776\">82 points</span> by <a href=\"user?id=mooreds\" class=\"hnuser\">mooreds</a> <span class=\"age\" title=\"2023-02-04T18:32:48\"><a href=\"item?id=34656776\">1 hour ago</a></span> <span id=\"unv_34656776\"></span> | <a href=\"hide?id=34656776&amp;goto=news\">hide</a> | <a href=\"item?id=34656776\">36&nbsp;comments</a>        </span>\n",
      "              </td></tr>\n",
      "      <tr class=\"spacer\" style=\"height:5px\"></tr>\n",
      "                <tr class='athing' id='34657234'>\n",
      "      <td align=\"right\" valign=\"top\" class=\"title\"><span class=\"rank\">3.</span></td>      <td valign=\"top\" class=\"votelinks\"><center><a id='up_34657234'href='vote?id=34657234&amp;how=up&amp;goto=news'><div class='votearrow' title='upvote'></div></a></center></td><td class=\"title\"><span class=\"titleline\"><a href=\"https://www.creativebloq.com/news/ai-anime-labour-shortage\">Netflix infuriates artists and fans with AI anime</a><span class=\"sitebit comhead\"> (<a href=\"from?site=creativebloq.com\"><span class=\"sitestr\">creativebloq.com</span></a>)</span></span></td></tr><tr><td colspan=\"2\"></td><td class=\"subtext\"><span class=\"subline\">\n",
      "          <span class=\"score\" id=\"score_34657234\">17 points</span> by <a href=\"user?id=amrrs\" class=\"hnuser\">amrrs</a> <span class=\"age\" title=\"2023-02-04T19:21:07\"><a href=\"item?id=34657234\">12 minutes ago</a></span> <span id=\"unv_34657234\"></span> | <a href=\"hide?id=34657234&amp;goto=news\">hide</a> | <a href=\"item?id=34657234\">3&nbsp;comments</a>        </span>\n",
      "              </td></tr>\n",
      "      <tr class=\"spacer\" style=\"height:5px\"></tr>\n",
      "                <tr class='athing' id='34656184'>\n",
      "      <td align=\"right\" valign=\"top\" class=\"title\"><span class=\"rank\">4.</span></td>      <td valign=\"top\" class=\"votelinks\"><center><a id='up_34656184'href='vote?id=34656184&amp;how=up&amp;goto=news'><div class='votearrow' title='upvote'></div></a></center></td><td class=\"title\"><span class=\"titleline\"><a href=\"https://gitlab.freedesktop.org/mesa/mesa/-/merge_requests/20835\">Mesa 23.1 Includes Asahi Linux Gallium3D Driver Progress</a><span class=\"sitebit comhead\"> (<a href=\"from?site=freedesktop.org\"><span class=\"sitestr\">freedesktop.org</span></a>)</span></span></td></tr><tr><td colspan=\"2\"></td><td class=\"subtext\"><span class=\"subline\">\n",
      "          <span class=\"score\" id=\"score_34656184\">63 points</span> by <a href=\"user?id=cf100clunk\" class=\"hnuser\">cf100clunk</a> <span class=\"age\" title=\"2023-02-04T17:27:03\"><a href=\"item?id=34656184\">2 hours ago</a></span> <span id=\"unv_34656184\"></span> | <a href=\"hide?id=34656184&amp;goto=news\">hide</a> | <a href=\"item?id=34656184\">1&nbsp;comment</a>        </span>\n",
      "              </td></tr>\n",
      "      <tr class=\"spacer\" style=\"height:5px\"></tr>\n",
      "                <tr class='athing' id='34656022'>\n",
      "      <td align=\"right\" valign=\"top\" class=\"title\"><span class=\"rank\">5.</span></td>      <td valign=\"top\" class=\"votelinks\"><center><a id='up_34656022'href='vote?id=34656022&amp;how=up&amp;goto=news'><div class='votearrow' title='upvote'></div></a></center></td><td class=\"title\"><span class=\"titleline\"><a href=\"https://github.com/mikefarah/yq\">yq: command-line YAML, JSON, XML, CSV and properties processor</a><span class=\"sitebit comhead\"> (<a href=\"from?site=github.com/mikefarah\"><span class=\"sitestr\">github.com/mikefarah</span></a>)</span></span></td></tr><tr><td colspan=\"2\"></td><td class=\"subtext\"><span class=\"subline\">\n",
      "          <span class=\"score\" id=\"score_34656022\">59 points</span> by <a href=\"user?id=based2\" class=\"hnuser\">based2</a> <span class=\"age\" title=\"2023-02-04T17:09:33\"><a href=\"item?id=34656022\">2 hours ago</a></span> <span id=\"unv_34656022\"></span> | <a href=\"hide?id=34656022&amp;goto=news\">hide</a> | <a href=\"item?id=34656022\">9&nbsp;comments</a>        </span>\n",
      "              </td></tr>\n",
      "      <tr class=\"spacer\" style=\"height:5px\"></tr>\n",
      "                <tr class='athing' id='34656183'>\n",
      "      <td align=\"right\" valign=\"top\" class=\"title\"><span class=\"rank\">6.</span></td>      <td valign=\"top\" class=\"votelinks\"><center><a id='up_34656183'href='vote?id=34656183&amp;how=up&amp;goto=news'><div class='votearrow' title='upvote'></div></a></center></td><td class=\"title\"><span class=\"titleline\"><a href=\"https://www.adrianpreda.com/blog/solar-kiln\">A Solar Kiln to dry wood. Overview, design and build (2019)</a><span class=\"sitebit comhead\"> (<a href=\"from?site=adrianpreda.com\"><span class=\"sitestr\">adrianpreda.com</span></a>)</span></span></td></tr><tr><td colspan=\"2\"></td><td class=\"subtext\"><span class=\"subline\">\n",
      "          <span class=\"score\" id=\"score_34656183\">42 points</span> by <a href=\"user?id=animal_spirits\" class=\"hnuser\">animal_spirits</a> <span class=\"age\" title=\"2023-02-04T17:26:44\"><a href=\"item?id=34656183\">2 hours ago</a></span> <span id=\"unv_34656183\"></span> | <a href=\"hide?id=34656183&amp;goto=news\">hide</a> | <a href=\"item?id=34656183\">12&nbsp;comments</a>        </span>\n",
      "              </td></tr>\n",
      "      <tr class=\"spacer\" style=\"height:5px\"></tr>\n",
      "                <tr class='athing' id='34653729'>\n",
      "      <td align=\"right\" valign=\"top\" class=\"title\"><span class=\"rank\">7.</span></td>      <td valign=\"top\" class=\"votelinks\"><center><a id='up_34653729'href='vote?id=34653729&amp;how=up&amp;goto=news'><div class='votearrow' title='upvote'></div></a></center></td><td class=\"title\"><span class=\"titleline\"><a href=\"https://eitherway.io/posts/esp32-buyers-guide/\">ESP32 Buyer’s Guide: Different Chips, Firmware, Sensors</a><span class=\"sitebit comhead\"> (<a href=\"from?site=eitherway.io\"><span class=\"sitestr\">eitherway.io</span></a>)</span></span></td></tr><tr><td colspan=\"2\"></td><td class=\"subtext\"><span class=\"subline\">\n",
      "          <span class=\"score\" id=\"score_34653729\">293 points</span> by <a href=\"user?id=eitherway\" class=\"hnuser\">eitherway</a> <span class=\"age\" title=\"2023-02-04T11:48:25\"><a href=\"item?id=34653729\">8 hours ago</a></span> <span id=\"unv_34653729\"></span> | <a href=\"hide?id=34653729&amp;goto=news\">hide</a> | <a href=\"item?id=34653729\">133&nbsp;comments</a>        </span>\n",
      "              </td></tr>\n",
      "      <tr class=\"spacer\" style=\"height:5px\"></tr>\n",
      "                <tr class='athing' id='34657105'>\n",
      "      <td align=\"right\" valign=\"top\" class=\"title\"><span class=\"rank\">8.</span></td>      <td valign=\"top\" class=\"votelinks\"><center><a id='up_34657105'href='vote?id=34657105&amp;how=up&amp;goto=news'><div class='votearrow' title='upvote'></div></a></center></td><td class=\"title\"><span class=\"titleline\"><a href=\"https://keck.usc.edu/study-links-adoption-of-electric-vehicles-with-less-air-pollution-and-improved-health/\">Study links adoption of EV with less air pollution and improved health</a><span class=\"sitebit comhead\"> (<a href=\"from?site=usc.edu\"><span class=\"sitestr\">usc.edu</span></a>)</span></span></td></tr><tr><td colspan=\"2\"></td><td class=\"subtext\"><span class=\"subline\">\n",
      "          <span class=\"score\" id=\"score_34657105\">15 points</span> by <a href=\"user?id=giuliomagnifico\" class=\"hnuser\">giuliomagnifico</a> <span class=\"age\" title=\"2023-02-04T19:07:35\"><a href=\"item?id=34657105\">56 minutes ago</a></span> <span id=\"unv_34657105\"></span> | <a href=\"hide?id=34657105&amp;goto=news\">hide</a> | <a href=\"item?id=34657105\">3&nbsp;comments</a>        </span>\n",
      "              </td></tr>\n",
      "      <tr class=\"spacer\" style=\"height:5px\"></tr>\n",
      "                <tr class='athing' id='34656008'>\n",
      "      <td align=\"right\" valign=\"top\" class=\"title\"><span class=\"rank\">9.</span></td>      <td valign=\"top\" class=\"votelinks\"><center><a id='up_34656008'href='vote?id=34656008&amp;how=up&amp;goto=news'><div class='votearrow' title='upvote'></div></a></center></td><td class=\"title\"><span class=\"titleline\"><a href=\"https://inorris.com/Blog/GPT/\">Understanding the limits of large language models</a><span class=\"sitebit comhead\"> (<a href=\"from?site=inorris.com\"><span class=\"sitestr\">inorris.com</span></a>)</span></span></td></tr><tr><td colspan=\"2\"></td><td class=\"subtext\"><span class=\"subline\">\n",
      "          <span class=\"score\" id=\"score_34656008\">51 points</span> by <a href=\"user?id=IanNorris\" class=\"hnuser\">IanNorris</a> <span class=\"age\" title=\"2023-02-04T17:08:39\"><a href=\"item?id=34656008\">2 hours ago</a></span> <span id=\"unv_34656008\"></span> | <a href=\"hide?id=34656008&amp;goto=news\">hide</a> | <a href=\"item?id=34656008\">2&nbsp;comments</a>        </span>\n",
      "              </td></tr>\n",
      "      <tr class=\"spacer\" style=\"height:5px\"></tr>\n",
      "                <tr class='athing' id='34656591'>\n",
      "      <td align=\"right\" valign=\"top\" class=\"title\"><span class=\"rank\">10.</span></td>      <td valign=\"top\" class=\"votelinks\"><center><a id='up_34656591'href='vote?id=34656591&amp;how=up&amp;goto=news'><div class='votearrow' title='upvote'></div></a></center></td><td class=\"title\"><span class=\"titleline\"><a href=\"https://www.pcmag.com/news/chatgpt-passes-google-coding-interview-for-level-3-engineer-with-183k-salary\">ChatGPT Passes Google Coding Interview for Level 3 Engineer with $183K Salary</a><span class=\"sitebit comhead\"> (<a href=\"from?site=pcmag.com\"><span class=\"sitestr\">pcmag.com</span></a>)</span></span></td></tr><tr><td colspan=\"2\"></td><td class=\"subtext\"><span class=\"subline\">\n",
      "          <span class=\"score\" id=\"score_34656591\">137 points</span> by <a href=\"user?id=geox\" class=\"hnuser\">geox</a> <span class=\"age\" title=\"2023-02-04T18:10:35\"><a href=\"item?id=34656591\">1 hour ago</a></span> <span id=\"unv_34656591\"></span> | <a href=\"hide?id=34656591&amp;goto=news\">hide</a> | <a href=\"item?id=34656591\">129&nbsp;comments</a>        </span>\n",
      "              </td></tr>\n",
      "      <tr class=\"spacer\" style=\"height:5px\"></tr>\n",
      "                <tr class='athing' id='34656736'>\n",
      "      <td align=\"right\" valign=\"top\" class=\"title\"><span class=\"rank\">11.</span></td>      <td valign=\"top\" class=\"votelinks\"><center><a id='up_34656736'href='vote?id=34656736&amp;how=up&amp;goto=news'><div class='votearrow' title='upvote'></div></a></center></td><td class=\"title\"><span class=\"titleline\"><a href=\"https://ostreedev.github.io/ostree/\">Libostree</a><span class=\"sitebit comhead\"> (<a href=\"from?site=ostreedev.github.io\"><span class=\"sitestr\">ostreedev.github.io</span></a>)</span></span></td></tr><tr><td colspan=\"2\"></td><td class=\"subtext\"><span class=\"subline\">\n",
      "          <span class=\"score\" id=\"score_34656736\">14 points</span> by <a href=\"user?id=Tomte\" class=\"hnuser\">Tomte</a> <span class=\"age\" title=\"2023-02-04T18:28:49\"><a href=\"item?id=34656736\">1 hour ago</a></span> <span id=\"unv_34656736\"></span> | <a href=\"hide?id=34656736&amp;goto=news\">hide</a> | <a href=\"item?id=34656736\">1&nbsp;comment</a>        </span>\n",
      "              </td></tr>\n",
      "      <tr class=\"spacer\" style=\"height:5px\"></tr>\n",
      "                <tr class='athing' id='34655930'>\n",
      "      <td align=\"right\" valign=\"top\" class=\"title\"><span class=\"rank\">12.</span></td>      <td><img src=\"s.gif\" height=\"1\" width=\"14\"></td>       <td class=\"title\"><span class=\"titleline\"><a href=\"https://www.ycombinator.com/companies/patterns\" rel=\"nofollow\">Patterns (YC S21) is hiring to build the best AI app dev platform</a><span class=\"sitebit comhead\"> (<a href=\"from?site=ycombinator.com\"><span class=\"sitestr\">ycombinator.com</span></a>)</span></span></td></tr><tr><td colspan=\"2\"></td><td class=\"subtext\">\n",
      "        <span class=\"age\" title=\"2023-02-04T17:00:50\"><a href=\"item?id=34655930\">3 hours ago</a></span> | <a href=\"hide?id=34655930&amp;goto=news\">hide</a>      </td></tr>\n",
      "      <tr class=\"spacer\" style=\"height:5px\"></tr>\n",
      "                <tr class='athing' id='34654809'>\n",
      "      <td align=\"right\" valign=\"top\" class=\"title\"><span class=\"rank\">13.</span></td>      <td valign=\"top\" class=\"votelinks\"><center><a id='up_34654809'href='vote?id=34654809&amp;how=up&amp;goto=news'><div class='votearrow' title='upvote'></div></a></center></td><td class=\"title\"><span class=\"titleline\"><a href=\"https://open-assistant.io/\">Open Assistant: Conversational AI for Everyone</a><span class=\"sitebit comhead\"> (<a href=\"from?site=open-assistant.io\"><span class=\"sitestr\">open-assistant.io</span></a>)</span></span></td></tr><tr><td colspan=\"2\"></td><td class=\"subtext\"><span class=\"subline\">\n",
      "          <span class=\"score\" id=\"score_34654809\">177 points</span> by <a href=\"user?id=chriskanan\" class=\"hnuser\">chriskanan</a> <span class=\"age\" title=\"2023-02-04T14:39:35\"><a href=\"item?id=34654809\">5 hours ago</a></span> <span id=\"unv_34654809\"></span> | <a href=\"hide?id=34654809&amp;goto=news\">hide</a> | <a href=\"item?id=34654809\">20&nbsp;comments</a>        </span>\n",
      "              </td></tr>\n",
      "      <tr class=\"spacer\" style=\"height:5px\"></tr>\n",
      "                <tr class='athing' id='34653405'>\n",
      "      <td align=\"right\" valign=\"top\" class=\"title\"><span class=\"rank\">14.</span></td>      <td valign=\"top\" class=\"votelinks\"><center><a id='up_34653405'href='vote?id=34653405&amp;how=up&amp;goto=news'><div class='votearrow' title='upvote'></div></a></center></td><td class=\"title\"><span class=\"titleline\"><a href=\"https://fosdem.org/2023/schedule/streaming/\">FOSDEM 2023 is live now</a><span class=\"sitebit comhead\"> (<a href=\"from?site=fosdem.org\"><span class=\"sitestr\">fosdem.org</span></a>)</span></span></td></tr><tr><td colspan=\"2\"></td><td class=\"subtext\"><span class=\"subline\">\n",
      "          <span class=\"score\" id=\"score_34653405\">277 points</span> by <a href=\"user?id=0x54MUR41\" class=\"hnuser\">0x54MUR41</a> <span class=\"age\" title=\"2023-02-04T10:39:23\"><a href=\"item?id=34653405\">9 hours ago</a></span> <span id=\"unv_34653405\"></span> | <a href=\"hide?id=34653405&amp;goto=news\">hide</a> | <a href=\"item?id=34653405\">42&nbsp;comments</a>        </span>\n",
      "              </td></tr>\n",
      "      <tr class=\"spacer\" style=\"height:5px\"></tr>\n",
      "                <tr class='athing' id='34624188'>\n",
      "      <td align=\"right\" valign=\"top\" class=\"title\"><span class=\"rank\">15.</span></td>      <td valign=\"top\" class=\"votelinks\"><center><a id='up_34624188'href='vote?id=34624188&amp;how=up&amp;goto=news'><div class='votearrow' title='upvote'></div></a></center></td><td class=\"title\"><span class=\"titleline\"><a href=\"https://www.thebyteattic.com/p/agon.html\">The Agon light is the fastest 8-bit microcomputer</a><span class=\"sitebit comhead\"> (<a href=\"from?site=thebyteattic.com\"><span class=\"sitestr\">thebyteattic.com</span></a>)</span></span></td></tr><tr><td colspan=\"2\"></td><td class=\"subtext\"><span class=\"subline\">\n",
      "          <span class=\"score\" id=\"score_34624188\">17 points</span> by <a href=\"user?id=unwind\" class=\"hnuser\">unwind</a> <span class=\"age\" title=\"2023-02-02T09:26:01\"><a href=\"item?id=34624188\">2 hours ago</a></span> <span id=\"unv_34624188\"></span> | <a href=\"hide?id=34624188&amp;goto=news\">hide</a> | <a href=\"item?id=34624188\">4&nbsp;comments</a>        </span>\n",
      "              </td></tr>\n",
      "      <tr class=\"spacer\" style=\"height:5px\"></tr>\n",
      "                <tr class='athing' id='34655252'>\n",
      "      <td align=\"right\" valign=\"top\" class=\"title\"><span class=\"rank\">16.</span></td>      <td valign=\"top\" class=\"votelinks\"><center><a id='up_34655252'href='vote?id=34655252&amp;how=up&amp;goto=news'><div class='votearrow' title='upvote'></div></a></center></td><td class=\"title\"><span class=\"titleline\"><a href=\"https://fwupd.org\">LVFS – Linux Vendor Firmware Service</a><span class=\"sitebit comhead\"> (<a href=\"from?site=fwupd.org\"><span class=\"sitestr\">fwupd.org</span></a>)</span></span></td></tr><tr><td colspan=\"2\"></td><td class=\"subtext\"><span class=\"subline\">\n",
      "          <span class=\"score\" id=\"score_34655252\">43 points</span> by <a href=\"user?id=nickexyz\" class=\"hnuser\">nickexyz</a> <span class=\"age\" title=\"2023-02-04T15:41:10\"><a href=\"item?id=34655252\">4 hours ago</a></span> <span id=\"unv_34655252\"></span> | <a href=\"hide?id=34655252&amp;goto=news\">hide</a> | <a href=\"item?id=34655252\">20&nbsp;comments</a>        </span>\n",
      "              </td></tr>\n",
      "      <tr class=\"spacer\" style=\"height:5px\"></tr>\n",
      "                <tr class='athing' id='34656906'>\n",
      "      <td align=\"right\" valign=\"top\" class=\"title\"><span class=\"rank\">17.</span></td>      <td valign=\"top\" class=\"votelinks\"><center><a id='up_34656906'href='vote?id=34656906&amp;how=up&amp;goto=news'><div class='votearrow' title='upvote'></div></a></center></td><td class=\"title\"><span class=\"titleline\"><a href=\"https://www.masteringemacs.org/article/polymode-multiple-major-modes-how-to-use-sql-python-in-one-buffer\">Polymode: Multiple Major Modes and How to Use SQL and Python in One Buffer</a><span class=\"sitebit comhead\"> (<a href=\"from?site=masteringemacs.org\"><span class=\"sitestr\">masteringemacs.org</span></a>)</span></span></td></tr><tr><td colspan=\"2\"></td><td class=\"subtext\"><span class=\"subline\">\n",
      "          <span class=\"score\" id=\"score_34656906\">11 points</span> by <a href=\"user?id=perihelions\" class=\"hnuser\">perihelions</a> <span class=\"age\" title=\"2023-02-04T18:47:11\"><a href=\"item?id=34656906\">1 hour ago</a></span> <span id=\"unv_34656906\"></span> | <a href=\"hide?id=34656906&amp;goto=news\">hide</a> | <a href=\"item?id=34656906\">discuss</a>        </span>\n",
      "              </td></tr>\n",
      "      <tr class=\"spacer\" style=\"height:5px\"></tr>\n",
      "                <tr class='athing' id='34656925'>\n",
      "      <td align=\"right\" valign=\"top\" class=\"title\"><span class=\"rank\">18.</span></td>      <td valign=\"top\" class=\"votelinks\"><center><a id='up_34656925'href='vote?id=34656925&amp;how=up&amp;goto=news'><div class='votearrow' title='upvote'></div></a></center></td><td class=\"title\"><span class=\"titleline\"><a href=\"https://www.nostr.how/\">Nostr.how – A Complete Guide to Nostr</a><span class=\"sitebit comhead\"> (<a href=\"from?site=nostr.how\"><span class=\"sitestr\">nostr.how</span></a>)</span></span></td></tr><tr><td colspan=\"2\"></td><td class=\"subtext\"><span class=\"subline\">\n",
      "          <span class=\"score\" id=\"score_34656925\">10 points</span> by <a href=\"user?id=vmoore\" class=\"hnuser\">vmoore</a> <span class=\"age\" title=\"2023-02-04T18:49:23\"><a href=\"item?id=34656925\">1 hour ago</a></span> <span id=\"unv_34656925\"></span> | <a href=\"hide?id=34656925&amp;goto=news\">hide</a> | <a href=\"item?id=34656925\">discuss</a>        </span>\n",
      "              </td></tr>\n",
      "      <tr class=\"spacer\" style=\"height:5px\"></tr>\n",
      "                <tr class='athing' id='34638456'>\n",
      "      <td align=\"right\" valign=\"top\" class=\"title\"><span class=\"rank\">19.</span></td>      <td valign=\"top\" class=\"votelinks\"><center><a id='up_34638456'href='vote?id=34638456&amp;how=up&amp;goto=news'><div class='votearrow' title='upvote'></div></a></center></td><td class=\"title\"><span class=\"titleline\"><a href=\"https://writings.stephenwolfram.com/2023/02/a-50-year-quest-my-personal-journey-with-the-second-law-of-thermodynamics/\">A 50-Year Quest: My Personal Journey with the Second Law of Thermodynamics</a><span class=\"sitebit comhead\"> (<a href=\"from?site=stephenwolfram.com\"><span class=\"sitestr\">stephenwolfram.com</span></a>)</span></span></td></tr><tr><td colspan=\"2\"></td><td class=\"subtext\"><span class=\"subline\">\n",
      "          <span class=\"score\" id=\"score_34638456\">10 points</span> by <a href=\"user?id=yarapavan\" class=\"hnuser\">yarapavan</a> <span class=\"age\" title=\"2023-02-03T07:58:22\"><a href=\"item?id=34638456\">1 hour ago</a></span> <span id=\"unv_34638456\"></span> | <a href=\"hide?id=34638456&amp;goto=news\">hide</a> | <a href=\"item?id=34638456\">discuss</a>        </span>\n",
      "              </td></tr>\n",
      "      <tr class=\"spacer\" style=\"height:5px\"></tr>\n",
      "                <tr class='athing' id='34654155'>\n",
      "      <td align=\"right\" valign=\"top\" class=\"title\"><span class=\"rank\">20.</span></td>      <td valign=\"top\" class=\"votelinks\"><center><a id='up_34654155'href='vote?id=34654155&amp;how=up&amp;goto=news'><div class='votearrow' title='upvote'></div></a></center></td><td class=\"title\"><span class=\"titleline\"><a href=\"https://www.science.org/content/blog-post/war-iron\">The War for Iron</a><span class=\"sitebit comhead\"> (<a href=\"from?site=science.org\"><span class=\"sitestr\">science.org</span></a>)</span></span></td></tr><tr><td colspan=\"2\"></td><td class=\"subtext\"><span class=\"subline\">\n",
      "          <span class=\"score\" id=\"score_34654155\">99 points</span> by <a href=\"user?id=etiam\" class=\"hnuser\">etiam</a> <span class=\"age\" title=\"2023-02-04T13:08:20\"><a href=\"item?id=34654155\">6 hours ago</a></span> <span id=\"unv_34654155\"></span> | <a href=\"hide?id=34654155&amp;goto=news\">hide</a> | <a href=\"item?id=34654155\">32&nbsp;comments</a>        </span>\n",
      "              </td></tr>\n",
      "      <tr class=\"spacer\" style=\"height:5px\"></tr>\n",
      "                <tr class='athing' id='34655832'>\n",
      "      <td align=\"right\" valign=\"top\" class=\"title\"><span class=\"rank\">21.</span></td>      <td valign=\"top\" class=\"votelinks\"><center><a id='up_34655832'href='vote?id=34655832&amp;how=up&amp;goto=news'><div class='votearrow' title='upvote'></div></a></center></td><td class=\"title\"><span class=\"titleline\"><a href=\"https://ryanblakeley.net/p/mantis-shrimp-eyes\">Mantis shrimp eyes</a><span class=\"sitebit comhead\"> (<a href=\"from?site=ryanblakeley.net\"><span class=\"sitestr\">ryanblakeley.net</span></a>)</span></span></td></tr><tr><td colspan=\"2\"></td><td class=\"subtext\"><span class=\"subline\">\n",
      "          <span class=\"score\" id=\"score_34655832\">25 points</span> by <a href=\"user?id=rojobuffalo\" class=\"hnuser\">rojobuffalo</a> <span class=\"age\" title=\"2023-02-04T16:51:03\"><a href=\"item?id=34655832\">3 hours ago</a></span> <span id=\"unv_34655832\"></span> | <a href=\"hide?id=34655832&amp;goto=news\">hide</a> | <a href=\"item?id=34655832\">5&nbsp;comments</a>        </span>\n",
      "              </td></tr>\n",
      "      <tr class=\"spacer\" style=\"height:5px\"></tr>\n",
      "                <tr class='athing' id='34653462'>\n",
      "      <td align=\"right\" valign=\"top\" class=\"title\"><span class=\"rank\">22.</span></td>      <td valign=\"top\" class=\"votelinks\"><center><a id='up_34653462'href='vote?id=34653462&amp;how=up&amp;goto=news'><div class='votearrow' title='upvote'></div></a></center></td><td class=\"title\"><span class=\"titleline\"><a href=\"https://mathshistory.st-andrews.ac.uk/HistTopics/Matrices_and_determinants/\">2000 Years of Matrix Multiplication</a><span class=\"sitebit comhead\"> (<a href=\"from?site=st-andrews.ac.uk\"><span class=\"sitestr\">st-andrews.ac.uk</span></a>)</span></span></td></tr><tr><td colspan=\"2\"></td><td class=\"subtext\"><span class=\"subline\">\n",
      "          <span class=\"score\" id=\"score_34653462\">149 points</span> by <a href=\"user?id=nothrowaways\" class=\"hnuser\">nothrowaways</a> <span class=\"age\" title=\"2023-02-04T10:51:48\"><a href=\"item?id=34653462\">9 hours ago</a></span> <span id=\"unv_34653462\"></span> | <a href=\"hide?id=34653462&amp;goto=news\">hide</a> | <a href=\"item?id=34653462\">16&nbsp;comments</a>        </span>\n",
      "              </td></tr>\n",
      "      <tr class=\"spacer\" style=\"height:5px\"></tr>\n",
      "                <tr class='athing' id='34625563'>\n",
      "      <td align=\"right\" valign=\"top\" class=\"title\"><span class=\"rank\">23.</span></td>      <td valign=\"top\" class=\"votelinks\"><center><a id='up_34625563'href='vote?id=34625563&amp;how=up&amp;goto=news'><div class='votearrow' title='upvote'></div></a></center></td><td class=\"title\"><span class=\"titleline\"><a href=\"https://onezero.medium.com/what-makes-it-possible-to-browse-the-internet-at-35-000-feet-1afaea83eb5\">The Science of Wi-Fi on Airplanes (2019)</a><span class=\"sitebit comhead\"> (<a href=\"from?site=onezero.medium.com\"><span class=\"sitestr\">onezero.medium.com</span></a>)</span></span></td></tr><tr><td colspan=\"2\"></td><td class=\"subtext\"><span class=\"subline\">\n",
      "          <span class=\"score\" id=\"score_34625563\">34 points</span> by <a href=\"user?id=tosh\" class=\"hnuser\">tosh</a> <span class=\"age\" title=\"2023-02-02T12:21:39\"><a href=\"item?id=34625563\">4 hours ago</a></span> <span id=\"unv_34625563\"></span> | <a href=\"hide?id=34625563&amp;goto=news\">hide</a> | <a href=\"item?id=34625563\">8&nbsp;comments</a>        </span>\n",
      "              </td></tr>\n",
      "      <tr class=\"spacer\" style=\"height:5px\"></tr>\n",
      "                <tr class='athing' id='34652754'>\n",
      "      <td align=\"right\" valign=\"top\" class=\"title\"><span class=\"rank\">24.</span></td>      <td valign=\"top\" class=\"votelinks\"><center><a id='up_34652754'href='vote?id=34652754&amp;how=up&amp;goto=news'><div class='votearrow' title='upvote'></div></a></center></td><td class=\"title\"><span class=\"titleline\"><a href=\"https://www.ndsu.edu/agriculture/extension/publications/air-air-heat-exchangers-healthier-energy-efficient-homes\">Air-to-Air Heat Exchangers for Healthier Energy-Efficient Homes</a><span class=\"sitebit comhead\"> (<a href=\"from?site=ndsu.edu\"><span class=\"sitestr\">ndsu.edu</span></a>)</span></span></td></tr><tr><td colspan=\"2\"></td><td class=\"subtext\"><span class=\"subline\">\n",
      "          <span class=\"score\" id=\"score_34652754\">222 points</span> by <a href=\"user?id=MengerSponge\" class=\"hnuser\">MengerSponge</a> <span class=\"age\" title=\"2023-02-04T08:26:39\"><a href=\"item?id=34652754\">11 hours ago</a></span> <span id=\"unv_34652754\"></span> | <a href=\"hide?id=34652754&amp;goto=news\">hide</a> | <a href=\"item?id=34652754\">127&nbsp;comments</a>        </span>\n",
      "              </td></tr>\n",
      "      <tr class=\"spacer\" style=\"height:5px\"></tr>\n",
      "                <tr class='athing' id='34650523'>\n",
      "      <td align=\"right\" valign=\"top\" class=\"title\"><span class=\"rank\">25.</span></td>      <td valign=\"top\" class=\"votelinks\"><center><a id='up_34650523'href='vote?id=34650523&amp;how=up&amp;goto=news'><div class='votearrow' title='upvote'></div></a></center></td><td class=\"title\"><span class=\"titleline\"><a href=\"https://minnie.tuhs.org/pipermail/tuhs/2023-February/027644.html\">Setuid in Unix created to enable a game</a><span class=\"sitebit comhead\"> (<a href=\"from?site=tuhs.org\"><span class=\"sitestr\">tuhs.org</span></a>)</span></span></td></tr><tr><td colspan=\"2\"></td><td class=\"subtext\"><span class=\"subline\">\n",
      "          <span class=\"score\" id=\"score_34650523\">67 points</span> by <a href=\"user?id=zdw\" class=\"hnuser\">zdw</a> <span class=\"age\" title=\"2023-02-04T01:53:02\"><a href=\"item?id=34650523\">7 hours ago</a></span> <span id=\"unv_34650523\"></span> | <a href=\"hide?id=34650523&amp;goto=news\">hide</a> | <a href=\"item?id=34650523\">10&nbsp;comments</a>        </span>\n",
      "              </td></tr>\n",
      "      <tr class=\"spacer\" style=\"height:5px\"></tr>\n",
      "                <tr class='athing' id='34623879'>\n",
      "      <td align=\"right\" valign=\"top\" class=\"title\"><span class=\"rank\">26.</span></td>      <td valign=\"top\" class=\"votelinks\"><center><a id='up_34623879'href='vote?id=34623879&amp;how=up&amp;goto=news'><div class='votearrow' title='upvote'></div></a></center></td><td class=\"title\"><span class=\"titleline\"><a href=\"https://www.cpushack.com/2018/07/03/cpu-of-the-day-the-intel-everest-series/\">CPU of the Day: The Intel Everest Series</a><span class=\"sitebit comhead\"> (<a href=\"from?site=cpushack.com\"><span class=\"sitestr\">cpushack.com</span></a>)</span></span></td></tr><tr><td colspan=\"2\"></td><td class=\"subtext\"><span class=\"subline\">\n",
      "          <span class=\"score\" id=\"score_34623879\">19 points</span> by <a href=\"user?id=segfaultbuserr\" class=\"hnuser\">segfaultbuserr</a> <span class=\"age\" title=\"2023-02-02T08:43:08\"><a href=\"item?id=34623879\">3 hours ago</a></span> <span id=\"unv_34623879\"></span> | <a href=\"hide?id=34623879&amp;goto=news\">hide</a> | <a href=\"item?id=34623879\">1&nbsp;comment</a>        </span>\n",
      "              </td></tr>\n",
      "      <tr class=\"spacer\" style=\"height:5px\"></tr>\n",
      "                <tr class='athing' id='34653813'>\n",
      "      <td align=\"right\" valign=\"top\" class=\"title\"><span class=\"rank\">27.</span></td>      <td valign=\"top\" class=\"votelinks\"><center><a id='up_34653813'href='vote?id=34653813&amp;how=up&amp;goto=news'><div class='votearrow' title='upvote'></div></a></center></td><td class=\"title\"><span class=\"titleline\"><a href=\"https://tyrrrz.me/blog/reverse-engineering-youtube-revisited\">Reverse-Engineering YouTube: Revisited</a><span class=\"sitebit comhead\"> (<a href=\"from?site=tyrrrz.me\"><span class=\"sitestr\">tyrrrz.me</span></a>)</span></span></td></tr><tr><td colspan=\"2\"></td><td class=\"subtext\"><span class=\"subline\">\n",
      "          <span class=\"score\" id=\"score_34653813\">135 points</span> by <a href=\"user?id=tyrrrz\" class=\"hnuser\">tyrrrz</a> <span class=\"age\" title=\"2023-02-04T12:01:25\"><a href=\"item?id=34653813\">8 hours ago</a></span> <span id=\"unv_34653813\"></span> | <a href=\"hide?id=34653813&amp;goto=news\">hide</a> | <a href=\"item?id=34653813\">24&nbsp;comments</a>        </span>\n",
      "              </td></tr>\n",
      "      <tr class=\"spacer\" style=\"height:5px\"></tr>\n",
      "                <tr class='athing' id='34656461'>\n",
      "      <td align=\"right\" valign=\"top\" class=\"title\"><span class=\"rank\">28.</span></td>      <td valign=\"top\" class=\"votelinks\"><center><a id='up_34656461'href='vote?id=34656461&amp;how=up&amp;goto=news'><div class='votearrow' title='upvote'></div></a></center></td><td class=\"title\"><span class=\"titleline\"><a href=\"https://www.adelaide.edu.au/newsroom/news/list/2023/01/30/seawater-split-to-produce-green-hydrogen\">Seawater split to produce green hydrogen</a><span class=\"sitebit comhead\"> (<a href=\"from?site=adelaide.edu.au\"><span class=\"sitestr\">adelaide.edu.au</span></a>)</span></span></td></tr><tr><td colspan=\"2\"></td><td class=\"subtext\"><span class=\"subline\">\n",
      "          <span class=\"score\" id=\"score_34656461\">8 points</span> by <a href=\"user?id=tech2\" class=\"hnuser\">tech2</a> <span class=\"age\" title=\"2023-02-04T17:57:40\"><a href=\"item?id=34656461\">2 hours ago</a></span> <span id=\"unv_34656461\"></span> | <a href=\"hide?id=34656461&amp;goto=news\">hide</a> | <a href=\"item?id=34656461\">12&nbsp;comments</a>        </span>\n",
      "              </td></tr>\n",
      "      <tr class=\"spacer\" style=\"height:5px\"></tr>\n",
      "                <tr class='athing' id='34640416'>\n",
      "      <td align=\"right\" valign=\"top\" class=\"title\"><span class=\"rank\">29.</span></td>      <td valign=\"top\" class=\"votelinks\"><center><a id='up_34640416'href='vote?id=34640416&amp;how=up&amp;goto=news'><div class='votearrow' title='upvote'></div></a></center></td><td class=\"title\"><span class=\"titleline\"><a href=\"https://www.scryer.pl\">Scryer Prolog</a><span class=\"sitebit comhead\"> (<a href=\"from?site=scryer.pl\"><span class=\"sitestr\">scryer.pl</span></a>)</span></span></td></tr><tr><td colspan=\"2\"></td><td class=\"subtext\"><span class=\"subline\">\n",
      "          <span class=\"score\" id=\"score_34640416\">88 points</span> by <a href=\"user?id=aarroyoc\" class=\"hnuser\">aarroyoc</a> <span class=\"age\" title=\"2023-02-03T12:54:12\"><a href=\"item?id=34640416\">8 hours ago</a></span> <span id=\"unv_34640416\"></span> | <a href=\"hide?id=34640416&amp;goto=news\">hide</a> | <a href=\"item?id=34640416\">18&nbsp;comments</a>        </span>\n",
      "              </td></tr>\n",
      "      <tr class=\"spacer\" style=\"height:5px\"></tr>\n",
      "                <tr class='athing' id='34653838'>\n",
      "      <td align=\"right\" valign=\"top\" class=\"title\"><span class=\"rank\">30.</span></td>      <td valign=\"top\" class=\"votelinks\"><center><a id='up_34653838'href='vote?id=34653838&amp;how=up&amp;goto=news'><div class='votearrow' title='upvote'></div></a></center></td><td class=\"title\"><span class=\"titleline\"><a href=\"https://news.mit.edu/2019/mit-engineers-develop-new-way-remove-carbon-dioxide-air-1025\">MIT engineers develop a new way to remove carbon dioxide from air (2019)</a><span class=\"sitebit comhead\"> (<a href=\"from?site=news.mit.edu\"><span class=\"sitestr\">news.mit.edu</span></a>)</span></span></td></tr><tr><td colspan=\"2\"></td><td class=\"subtext\"><span class=\"subline\">\n",
      "          <span class=\"score\" id=\"score_34653838\">75 points</span> by <a href=\"user?id=gozzoo\" class=\"hnuser\">gozzoo</a> <span class=\"age\" title=\"2023-02-04T12:05:19\"><a href=\"item?id=34653838\">7 hours ago</a></span> <span id=\"unv_34653838\"></span> | <a href=\"hide?id=34653838&amp;goto=news\">hide</a> | <a href=\"item?id=34653838\">57&nbsp;comments</a>        </span>\n",
      "              </td></tr>\n",
      "      <tr class=\"spacer\" style=\"height:5px\"></tr>\n",
      "            <tr class=\"morespace\" style=\"height:10px\"></tr><tr><td colspan=\"2\"></td>\n",
      "      <td class='title'><a href='?p=2' class='morelink' rel='next'>More</a></td>    </tr>\n",
      "  </table>\n",
      "</td></tr>\n",
      "<tr><td><img src=\"s.gif\" height=\"10\" width=\"0\"><table width=\"100%\" cellspacing=\"0\" cellpadding=\"1\"><tr><td bgcolor=\"#ff6600\"></td></tr></table><br>\n",
      "<center><span class=\"yclinks\"><a href=\"newsguidelines.html\">Guidelines</a> | <a href=\"newsfaq.html\">FAQ</a> | <a href=\"lists\">Lists</a> | <a href=\"https://github.com/HackerNews/API\">API</a> | <a href=\"security.html\">Security</a> | <a href=\"https://www.ycombinator.com/legal/\">Legal</a> | <a href=\"https://www.ycombinator.com/apply/\">Apply to YC</a> | <a href=\"mailto:hn@ycombinator.com\">Contact</a></span><br><br>\n",
      "<form method=\"get\" action=\"//hn.algolia.com/\">Search: <input type=\"text\" name=\"q\" size=\"17\" autocorrect=\"off\" spellcheck=\"false\" autocapitalize=\"off\" autocomplete=\"false\"></form></center></td></tr>      </table></center></body>\n",
      "      <script type='text/javascript' src='hn.js?sCHxrvQkfxYHN7U5AkST'></script>\n",
      "  </html>\n",
      "\n"
     ]
    }
   ],
   "source": [
    "import requests\n",
    "\n",
    "# Fetch a web page\n",
    "r = requests.get(\"https://news.ycombinator.com\")\n",
    "print(r.text)"
   ]
  },
  {
   "cell_type": "code",
   "execution_count": 5,
   "id": "bc28382a",
   "metadata": {},
   "outputs": [
    {
     "name": "stdout",
     "output_type": "stream",
     "text": [
      "\n",
      "        \n",
      "          \n",
      "        Hacker News\n",
      "        \n",
      "                  Hacker News\n",
      "                            new | past | comments | ask | show | jobs | submit            \n",
      "                              login\n",
      "                          \n",
      "              \n",
      "\n",
      "            \n",
      "      1.      Open Assistant – project meant to give everyone access to a great chat based LLM (github.com/laion-ai)\n",
      "          460 points by pps 5 hours ago  | hide | 177&nbsp;comments        \n",
      "              \n",
      "      \n",
      "                \n",
      "      2.      Scalability Is Overrated (waseem.substack.com)\n",
      "          82 points by mooreds 1 hour ago  | hide | 36&nbsp;comments        \n",
      "              \n",
      "      \n",
      "                \n",
      "      3.      Netflix infuriates artists and fans with AI anime (creativebloq.com)\n",
      "          17 points by amrrs 12 minutes ago  | hide | 3&nbsp;comments        \n",
      "              \n",
      "      \n",
      "                \n",
      "      4.      Mesa 23.1 Includes Asahi Linux Gallium3D Driver Progress (freedesktop.org)\n",
      "          63 points by cf100clunk 2 hours ago  | hide | 1&nbsp;comment        \n",
      "              \n",
      "      \n",
      "                \n",
      "      5.      yq: command-line YAML, JSON, XML, CSV and properties processor (github.com/mikefarah)\n",
      "          59 points by based2 2 hours ago  | hide | 9&nbsp;comments        \n",
      "              \n",
      "      \n",
      "                \n",
      "      6.      A Solar Kiln to dry wood. Overview, design and build (2019) (adrianpreda.com)\n",
      "          42 points by animal_spirits 2 hours ago  | hide | 12&nbsp;comments        \n",
      "              \n",
      "      \n",
      "                \n",
      "      7.      ESP32 Buyer’s Guide: Different Chips, Firmware, Sensors (eitherway.io)\n",
      "          293 points by eitherway 8 hours ago  | hide | 133&nbsp;comments        \n",
      "              \n",
      "      \n",
      "                \n",
      "      8.      Study links adoption of EV with less air pollution and improved health (usc.edu)\n",
      "          15 points by giuliomagnifico 56 minutes ago  | hide | 3&nbsp;comments        \n",
      "              \n",
      "      \n",
      "                \n",
      "      9.      Understanding the limits of large language models (inorris.com)\n",
      "          51 points by IanNorris 2 hours ago  | hide | 2&nbsp;comments        \n",
      "              \n",
      "      \n",
      "                \n",
      "      10.      ChatGPT Passes Google Coding Interview for Level 3 Engineer with $183K Salary (pcmag.com)\n",
      "          137 points by geox 1 hour ago  | hide | 129&nbsp;comments        \n",
      "              \n",
      "      \n",
      "                \n",
      "      11.      Libostree (ostreedev.github.io)\n",
      "          14 points by Tomte 1 hour ago  | hide | 1&nbsp;comment        \n",
      "              \n",
      "      \n",
      "                \n",
      "      12.             Patterns (YC S21) is hiring to build the best AI app dev platform (ycombinator.com)\n",
      "        3 hours ago | hide      \n",
      "      \n",
      "                \n",
      "      13.      Open Assistant: Conversational AI for Everyone (open-assistant.io)\n",
      "          177 points by chriskanan 5 hours ago  | hide | 20&nbsp;comments        \n",
      "              \n",
      "      \n",
      "                \n",
      "      14.      FOSDEM 2023 is live now (fosdem.org)\n",
      "          277 points by 0x54MUR41 9 hours ago  | hide | 42&nbsp;comments        \n",
      "              \n",
      "      \n",
      "                \n",
      "      15.      The Agon light is the fastest 8-bit microcomputer (thebyteattic.com)\n",
      "          17 points by unwind 2 hours ago  | hide | 4&nbsp;comments        \n",
      "              \n",
      "      \n",
      "                \n",
      "      16.      LVFS – Linux Vendor Firmware Service (fwupd.org)\n",
      "          43 points by nickexyz 4 hours ago  | hide | 20&nbsp;comments        \n",
      "              \n",
      "      \n",
      "                \n",
      "      17.      Polymode: Multiple Major Modes and How to Use SQL and Python in One Buffer (masteringemacs.org)\n",
      "          11 points by perihelions 1 hour ago  | hide | discuss        \n",
      "              \n",
      "      \n",
      "                \n",
      "      18.      Nostr.how – A Complete Guide to Nostr (nostr.how)\n",
      "          10 points by vmoore 1 hour ago  | hide | discuss        \n",
      "              \n",
      "      \n",
      "                \n",
      "      19.      A 50-Year Quest: My Personal Journey with the Second Law of Thermodynamics (stephenwolfram.com)\n",
      "          10 points by yarapavan 1 hour ago  | hide | discuss        \n",
      "              \n",
      "      \n",
      "                \n",
      "      20.      The War for Iron (science.org)\n",
      "          99 points by etiam 6 hours ago  | hide | 32&nbsp;comments        \n",
      "              \n",
      "      \n",
      "                \n",
      "      21.      Mantis shrimp eyes (ryanblakeley.net)\n",
      "          25 points by rojobuffalo 3 hours ago  | hide | 5&nbsp;comments        \n",
      "              \n",
      "      \n",
      "                \n",
      "      22.      2000 Years of Matrix Multiplication (st-andrews.ac.uk)\n",
      "          149 points by nothrowaways 9 hours ago  | hide | 16&nbsp;comments        \n",
      "              \n",
      "      \n",
      "                \n",
      "      23.      The Science of Wi-Fi on Airplanes (2019) (onezero.medium.com)\n",
      "          34 points by tosh 4 hours ago  | hide | 8&nbsp;comments        \n",
      "              \n",
      "      \n",
      "                \n",
      "      24.      Air-to-Air Heat Exchangers for Healthier Energy-Efficient Homes (ndsu.edu)\n",
      "          222 points by MengerSponge 11 hours ago  | hide | 127&nbsp;comments        \n",
      "              \n",
      "      \n",
      "                \n",
      "      25.      Setuid in Unix created to enable a game (tuhs.org)\n",
      "          67 points by zdw 7 hours ago  | hide | 10&nbsp;comments        \n",
      "              \n",
      "      \n",
      "                \n",
      "      26.      CPU of the Day: The Intel Everest Series (cpushack.com)\n",
      "          19 points by segfaultbuserr 3 hours ago  | hide | 1&nbsp;comment        \n",
      "              \n",
      "      \n",
      "                \n",
      "      27.      Reverse-Engineering YouTube: Revisited (tyrrrz.me)\n",
      "          135 points by tyrrrz 8 hours ago  | hide | 24&nbsp;comments        \n",
      "              \n",
      "      \n",
      "                \n",
      "      28.      Seawater split to produce green hydrogen (adelaide.edu.au)\n",
      "          8 points by tech2 2 hours ago  | hide | 12&nbsp;comments        \n",
      "              \n",
      "      \n",
      "                \n",
      "      29.      Scryer Prolog (scryer.pl)\n",
      "          88 points by aarroyoc 8 hours ago  | hide | 18&nbsp;comments        \n",
      "              \n",
      "      \n",
      "                \n",
      "      30.      MIT engineers develop a new way to remove carbon dioxide from air (2019) (news.mit.edu)\n",
      "          75 points by gozzoo 7 hours ago  | hide | 57&nbsp;comments        \n",
      "              \n",
      "      \n",
      "            \n",
      "      More    \n",
      "  \n",
      "\n",
      "\n",
      "Guidelines | FAQ | Lists | API | Security | Legal | Apply to YC | Contact\n",
      "Search:       \n",
      "      \n",
      "  \n",
      "\n"
     ]
    }
   ],
   "source": [
    "import re\n",
    "\n",
    "# Remove HTML tags using RegEx\n",
    "pattern = re.compile(r'<.*?>')  # tags look like <...>\n",
    "print(pattern.sub('', r.text))  # replace them with blank"
   ]
  },
  {
   "cell_type": "code",
   "execution_count": 6,
   "id": "e318f8b4",
   "metadata": {},
   "outputs": [
    {
     "name": "stdout",
     "output_type": "stream",
     "text": [
      "\n",
      "        \n",
      "          \n",
      "        Hacker News\n",
      "        \n",
      "                  Hacker News\n",
      "                            new | past | comments | ask | show | jobs | submit            \n",
      "                              login\n",
      "                          \n",
      "              \n",
      "\n",
      "            \n",
      "      1.      Open Assistant – project meant to give everyone access to a great chat based LLM (github.com/laion-ai)\n",
      "          460 points by pps 5 hours ago  | hide | 177 comments        \n",
      "              \n",
      "      \n",
      "                \n",
      "      2.      Scalability Is Overrated (waseem.substack.com)\n",
      "          82 points by mooreds 1 hour ago  | hide | 36 comments        \n",
      "              \n",
      "      \n",
      "                \n",
      "      3.      Netflix infuriates artists and fans with AI anime (creativebloq.com)\n",
      "          17 points by amrrs 12 minutes ago  | hide | 3 comments        \n",
      "              \n",
      "      \n",
      "                \n",
      "      4.      Mesa 23.1 Includes Asahi Linux Gallium3D Driver Progress (freedesktop.org)\n",
      "          63 points by cf100clunk 2 hours ago  | hide | 1 comment        \n",
      "              \n",
      "      \n",
      "                \n",
      "      5.      yq: command-line YAML, JSON, XML, CSV and properties processor (github.com/mikefarah)\n",
      "          59 points by based2 2 hours ago  | hide | 9 comments        \n",
      "              \n",
      "      \n",
      "                \n",
      "      6.      A Solar Kiln to dry wood. Overview, design and build (2019) (adrianpreda.com)\n",
      "          42 points by animal_spirits 2 hours ago  | hide | 12 comments        \n",
      "              \n",
      "      \n",
      "                \n",
      "      7.      ESP32 Buyer’s Guide: Different Chips, Firmware, Sensors (eitherway.io)\n",
      "          293 points by eitherway 8 hours ago  | hide | 133 comments        \n",
      "              \n",
      "      \n",
      "                \n",
      "      8.      Study links adoption of EV with less air pollution and improved health (usc.edu)\n",
      "          15 points by giuliomagnifico 56 minutes ago  | hide | 3 comments        \n",
      "              \n",
      "      \n",
      "                \n",
      "      9.      Understanding the limits of large language models (inorris.com)\n",
      "          51 points by IanNorris 2 hours ago  | hide | 2 comments        \n",
      "              \n",
      "      \n",
      "                \n",
      "      10.      ChatGPT Passes Google Coding Interview for Level 3 Engineer with $183K Salary (pcmag.com)\n",
      "          137 points by geox 1 hour ago  | hide | 129 comments        \n",
      "              \n",
      "      \n",
      "                \n",
      "      11.      Libostree (ostreedev.github.io)\n",
      "          14 points by Tomte 1 hour ago  | hide | 1 comment        \n",
      "              \n",
      "      \n",
      "                \n",
      "      12.             Patterns (YC S21) is hiring to build the best AI app dev platform (ycombinator.com)\n",
      "        3 hours ago | hide      \n",
      "      \n",
      "                \n",
      "      13.      Open Assistant: Conversational AI for Everyone (open-assistant.io)\n",
      "          177 points by chriskanan 5 hours ago  | hide | 20 comments        \n",
      "              \n",
      "      \n",
      "                \n",
      "      14.      FOSDEM 2023 is live now (fosdem.org)\n",
      "          277 points by 0x54MUR41 9 hours ago  | hide | 42 comments        \n",
      "              \n",
      "      \n",
      "                \n",
      "      15.      The Agon light is the fastest 8-bit microcomputer (thebyteattic.com)\n",
      "          17 points by unwind 2 hours ago  | hide | 4 comments        \n",
      "              \n",
      "      \n",
      "                \n",
      "      16.      LVFS – Linux Vendor Firmware Service (fwupd.org)\n",
      "          43 points by nickexyz 4 hours ago  | hide | 20 comments        \n",
      "              \n",
      "      \n",
      "                \n",
      "      17.      Polymode: Multiple Major Modes and How to Use SQL and Python in One Buffer (masteringemacs.org)\n",
      "          11 points by perihelions 1 hour ago  | hide | discuss        \n",
      "              \n",
      "      \n",
      "                \n",
      "      18.      Nostr.how – A Complete Guide to Nostr (nostr.how)\n",
      "          10 points by vmoore 1 hour ago  | hide | discuss        \n",
      "              \n",
      "      \n",
      "                \n",
      "      19.      A 50-Year Quest: My Personal Journey with the Second Law of Thermodynamics (stephenwolfram.com)\n",
      "          10 points by yarapavan 1 hour ago  | hide | discuss        \n",
      "              \n",
      "      \n",
      "                \n",
      "      20.      The War for Iron (science.org)\n",
      "          99 points by etiam 6 hours ago  | hide | 32 comments        \n",
      "              \n",
      "      \n",
      "                \n",
      "      21.      Mantis shrimp eyes (ryanblakeley.net)\n",
      "          25 points by rojobuffalo 3 hours ago  | hide | 5 comments        \n",
      "              \n",
      "      \n",
      "                \n",
      "      22.      2000 Years of Matrix Multiplication (st-andrews.ac.uk)\n",
      "          149 points by nothrowaways 9 hours ago  | hide | 16 comments        \n",
      "              \n",
      "      \n",
      "                \n",
      "      23.      The Science of Wi-Fi on Airplanes (2019) (onezero.medium.com)\n",
      "          34 points by tosh 4 hours ago  | hide | 8 comments        \n",
      "              \n",
      "      \n",
      "                \n",
      "      24.      Air-to-Air Heat Exchangers for Healthier Energy-Efficient Homes (ndsu.edu)\n",
      "          222 points by MengerSponge 11 hours ago  | hide | 127 comments        \n",
      "              \n",
      "      \n",
      "                \n",
      "      25.      Setuid in Unix created to enable a game (tuhs.org)\n",
      "          67 points by zdw 7 hours ago  | hide | 10 comments        \n",
      "              \n",
      "      \n",
      "                \n",
      "      26.      CPU of the Day: The Intel Everest Series (cpushack.com)\n",
      "          19 points by segfaultbuserr 3 hours ago  | hide | 1 comment        \n",
      "              \n",
      "      \n",
      "                \n",
      "      27.      Reverse-Engineering YouTube: Revisited (tyrrrz.me)\n",
      "          135 points by tyrrrz 8 hours ago  | hide | 24 comments        \n",
      "              \n",
      "      \n",
      "                \n",
      "      28.      Seawater split to produce green hydrogen (adelaide.edu.au)\n",
      "          8 points by tech2 2 hours ago  | hide | 12 comments        \n",
      "              \n",
      "      \n",
      "                \n",
      "      29.      Scryer Prolog (scryer.pl)\n",
      "          88 points by aarroyoc 8 hours ago  | hide | 18 comments        \n",
      "              \n",
      "      \n",
      "                \n",
      "      30.      MIT engineers develop a new way to remove carbon dioxide from air (2019) (news.mit.edu)\n",
      "          75 points by gozzoo 7 hours ago  | hide | 57 comments        \n",
      "              \n",
      "      \n",
      "            \n",
      "      More    \n",
      "  \n",
      "\n",
      "\n",
      "Guidelines | FAQ | Lists | API | Security | Legal | Apply to YC | Contact\n",
      "Search:       \n",
      "      \n",
      "  \n",
      "\n"
     ]
    }
   ],
   "source": [
    "from bs4 import BeautifulSoup\n",
    "\n",
    "# Remove HTML tags using Beautiful Soup library\n",
    "soup = BeautifulSoup(r.text, \"html5lib\")\n",
    "print(soup.get_text())"
   ]
  },
  {
   "cell_type": "code",
   "execution_count": 7,
   "id": "f0235034",
   "metadata": {},
   "outputs": [
    {
     "data": {
      "text/plain": [
       "<tr class=\"athing\" id=\"34654937\">\n",
       "      <td align=\"right\" class=\"title\" valign=\"top\"><span class=\"rank\">1.</span></td>      <td class=\"votelinks\" valign=\"top\"><center><a href=\"vote?id=34654937&amp;how=up&amp;goto=news\" id=\"up_34654937\"><div class=\"votearrow\" title=\"upvote\"></div></a></center></td><td class=\"title\"><span class=\"titleline\"><a href=\"https://github.com/LAION-AI/Open-Assistant\">Open Assistant – project meant to give everyone access to a great chat based LLM</a><span class=\"sitebit comhead\"> (<a href=\"from?site=github.com/laion-ai\"><span class=\"sitestr\">github.com/laion-ai</span></a>)</span></span></td></tr>"
      ]
     },
     "execution_count": 7,
     "metadata": {},
     "output_type": "execute_result"
    }
   ],
   "source": [
    "# Find all articles\n",
    "summaries = soup.find_all(\"tr\", class_=\"athing\")\n",
    "summaries[0]"
   ]
  },
  {
   "cell_type": "code",
   "execution_count": 8,
   "id": "ee367443",
   "metadata": {},
   "outputs": [],
   "source": [
    "# Extract title\n",
    "# summaries[0].find(\"a\", class_=\"title\").get_text().strip()"
   ]
  },
  {
   "cell_type": "markdown",
   "id": "f41ac74b",
   "metadata": {},
   "source": [
    " # Normalisation\n"
   ]
  },
  {
   "cell_type": "code",
   "execution_count": 9,
   "id": "4aee0016",
   "metadata": {},
   "outputs": [
    {
     "name": "stdout",
     "output_type": "stream",
     "text": [
      "the first time you see the second renaissance it may look boring. look at it at least twice and definitely watch part 2. it will change your view of the matrix. are the human people the ones who started the war ? is ai a bad thing ?\n"
     ]
    }
   ],
   "source": [
    "text = \"The first time you see The Second Renaissance it may look boring. Look at it at least twice and definitely watch part 2. It will change your view of the matrix. Are the human people the ones who started the war ? Is AI a bad thing ?\"\n",
    "text = text.lower()\n",
    "print(text)"
   ]
  },
  {
   "cell_type": "code",
   "execution_count": 10,
   "id": "273f1eaa",
   "metadata": {},
   "outputs": [
    {
     "name": "stdout",
     "output_type": "stream",
     "text": [
      "the first time you see the second renaissance it may look boring  look at it at least twice and definitely watch part 2  it will change your view of the matrix  are the human people the ones who started the war   is ai a bad thing  \n"
     ]
    }
   ],
   "source": [
    "import re\n",
    "text = re.sub(r\"[^a-zA-Z0-9]\", \" \", text)\n",
    "print(text)"
   ]
  },
  {
   "cell_type": "markdown",
   "id": "0a059542",
   "metadata": {},
   "source": [
    "# Tokenisation + NLTK"
   ]
  },
  {
   "cell_type": "code",
   "execution_count": 11,
   "id": "5c432f58",
   "metadata": {},
   "outputs": [],
   "source": [
    "import os\n",
    "import nltk\n",
    "nltk.data.path.append(os.path.join(os.getcwd(), 'nltk_data'))\n",
    "text = \"Dr. Smith graduated from the University of Washington. He later started an analytics firm called Lux, which catered to enterprise customers.\""
   ]
  },
  {
   "cell_type": "code",
   "execution_count": 12,
   "id": "3cf09641",
   "metadata": {},
   "outputs": [
    {
     "name": "stdout",
     "output_type": "stream",
     "text": [
      "['Dr.', 'Smith', 'graduated', 'from', 'the', 'University', 'of', 'Washington', '.', 'He', 'later', 'started', 'an', 'analytics', 'firm', 'called', 'Lux', ',', 'which', 'catered', 'to', 'enterprise', 'customers', '.']\n"
     ]
    }
   ],
   "source": [
    "from nltk.tokenize import word_tokenize\n",
    "\n",
    "words = word_tokenize(text)\n",
    "print(words)"
   ]
  },
  {
   "cell_type": "code",
   "execution_count": 13,
   "id": "6d873b8b",
   "metadata": {},
   "outputs": [
    {
     "name": "stdout",
     "output_type": "stream",
     "text": [
      "['Dr. Smith graduated from the University of Washington.', 'He later started an analytics firm called Lux, which catered to enterprise customers.']\n"
     ]
    }
   ],
   "source": [
    "from nltk.tokenize import sent_tokenize\n",
    "\n",
    "sentences = sent_tokenize(text)\n",
    "print(sentences)"
   ]
  },
  {
   "cell_type": "code",
   "execution_count": 14,
   "id": "62c3ffcb",
   "metadata": {},
   "outputs": [
    {
     "name": "stderr",
     "output_type": "stream",
     "text": [
      "Everything up-to-date\n"
     ]
    }
   ],
   "source": [
    "!git push"
   ]
  },
  {
   "cell_type": "code",
   "execution_count": 15,
   "id": "55e6313f",
   "metadata": {},
   "outputs": [
    {
     "name": "stdout",
     "output_type": "stream",
     "text": [
      "['i', 'me', 'my', 'myself', 'we', 'our', 'ours', 'ourselves', 'you', \"you're\", \"you've\", \"you'll\", \"you'd\", 'your', 'yours', 'yourself', 'yourselves', 'he', 'him', 'his', 'himself', 'she', \"she's\", 'her', 'hers', 'herself', 'it', \"it's\", 'its', 'itself', 'they', 'them', 'their', 'theirs', 'themselves', 'what', 'which', 'who', 'whom', 'this', 'that', \"that'll\", 'these', 'those', 'am', 'is', 'are', 'was', 'were', 'be', 'been', 'being', 'have', 'has', 'had', 'having', 'do', 'does', 'did', 'doing', 'a', 'an', 'the', 'and', 'but', 'if', 'or', 'because', 'as', 'until', 'while', 'of', 'at', 'by', 'for', 'with', 'about', 'against', 'between', 'into', 'through', 'during', 'before', 'after', 'above', 'below', 'to', 'from', 'up', 'down', 'in', 'out', 'on', 'off', 'over', 'under', 'again', 'further', 'then', 'once', 'here', 'there', 'when', 'where', 'why', 'how', 'all', 'any', 'both', 'each', 'few', 'more', 'most', 'other', 'some', 'such', 'no', 'nor', 'not', 'only', 'own', 'same', 'so', 'than', 'too', 'very', 's', 't', 'can', 'will', 'just', 'don', \"don't\", 'should', \"should've\", 'now', 'd', 'll', 'm', 'o', 're', 've', 'y', 'ain', 'aren', \"aren't\", 'couldn', \"couldn't\", 'didn', \"didn't\", 'doesn', \"doesn't\", 'hadn', \"hadn't\", 'hasn', \"hasn't\", 'haven', \"haven't\", 'isn', \"isn't\", 'ma', 'mightn', \"mightn't\", 'mustn', \"mustn't\", 'needn', \"needn't\", 'shan', \"shan't\", 'shouldn', \"shouldn't\", 'wasn', \"wasn't\", 'weren', \"weren't\", 'won', \"won't\", 'wouldn', \"wouldn't\"]\n"
     ]
    }
   ],
   "source": [
    "from nltk.corpus import stopwords\n",
    "print(stopwords.words('english'))"
   ]
  },
  {
   "cell_type": "code",
   "execution_count": 16,
   "id": "44b90693",
   "metadata": {},
   "outputs": [
    {
     "name": "stdout",
     "output_type": "stream",
     "text": [
      "['Dr.', 'Smith', 'graduated', 'University', 'Washington', '.', 'He', 'later', 'started', 'analytics', 'firm', 'called', 'Lux', ',', 'catered', 'enterprise', 'customers', '.']\n"
     ]
    }
   ],
   "source": [
    "words = [w for w in words if w not in stopwords.words('english')]\n",
    "print(words)"
   ]
  },
  {
   "cell_type": "markdown",
   "id": "a75c68fa",
   "metadata": {},
   "source": [
    "# Part of Speech Tagging"
   ]
  },
  {
   "cell_type": "code",
   "execution_count": 17,
   "id": "f842bb1b",
   "metadata": {},
   "outputs": [
    {
     "data": {
      "text/plain": [
       "[('I', 'PRP'),\n",
       " ('shot', 'VBP'),\n",
       " ('an', 'DT'),\n",
       " ('elephan', 'NN'),\n",
       " ('in', 'IN'),\n",
       " ('my', 'PRP$'),\n",
       " ('pajamas', 'NN'),\n",
       " ('.', '.')]"
      ]
     },
     "execution_count": 17,
     "metadata": {},
     "output_type": "execute_result"
    }
   ],
   "source": [
    "from nltk import pos_tag\n",
    "\n",
    "sentence = word_tokenize('I shot an elephan in my pajamas.')\n",
    "pos_tag(sentence)"
   ]
  },
  {
   "cell_type": "markdown",
   "id": "700e4da0",
   "metadata": {},
   "source": [
    "# Named entity recognition"
   ]
  },
  {
   "cell_type": "code",
   "execution_count": 18,
   "id": "26e32029",
   "metadata": {},
   "outputs": [],
   "source": [
    "# from nltk import pos_tag, ne_chunk\n",
    "# from nltk.tokenize import word_tokenize\n",
    "\n",
    "# ne_chunk(pos_tag(word_tokenize('Antonio joined Udacity Inc. in California.')))"
   ]
  },
  {
   "cell_type": "markdown",
   "id": "cee11b8c",
   "metadata": {},
   "source": [
    "# Stemming and Lemmatisation"
   ]
  },
  {
   "cell_type": "code",
   "execution_count": 19,
   "id": "f5d9d94c",
   "metadata": {},
   "outputs": [
    {
     "name": "stdout",
     "output_type": "stream",
     "text": [
      "['dr.', 'smith', 'graduat', 'univers', 'washington', '.', 'he', 'later', 'start', 'analyt', 'firm', 'call', 'lux', ',', 'cater', 'enterpris', 'custom', '.']\n"
     ]
    }
   ],
   "source": [
    "from nltk import PorterStemmer\n",
    "\n",
    "stemmed = [PorterStemmer().stem(w) for w in words]\n",
    "print(stemmed)"
   ]
  },
  {
   "cell_type": "code",
   "execution_count": 21,
   "id": "e0608d28",
   "metadata": {},
   "outputs": [
    {
     "name": "stdout",
     "output_type": "stream",
     "text": [
      "['Dr.', 'Smith', 'graduated', 'University', 'Washington', '.', 'He', 'later', 'started', 'analytics', 'firm', 'called', 'Lux', ',', 'catered', 'enterprise', 'customer', '.']\n"
     ]
    }
   ],
   "source": [
    "from nltk.stem.wordnet import WordNetLemmatizer\n",
    "\n",
    "lemmed = [WordNetLemmatizer().lemmatize(w) for w in words]\n",
    "print(lemmed)"
   ]
  },
  {
   "cell_type": "code",
   "execution_count": 25,
   "id": "adb7dd5e",
   "metadata": {},
   "outputs": [
    {
     "name": "stdout",
     "output_type": "stream",
     "text": [
      "['Dr.', 'Smith', 'graduate', 'University', 'Washington', '.', 'He', 'later', 'start', 'analytics', 'firm', 'call', 'Lux', ',', 'cater', 'enterprise', 'customer', '.']\n"
     ]
    }
   ],
   "source": [
    "lemmed = [WordNetLemmatizer().lemmatize(w, pos = 'v') for w in lemmed]\n",
    "print(lemmed)"
   ]
  },
  {
   "cell_type": "markdown",
   "id": "ebb3a75f",
   "metadata": {},
   "source": [
    "### Typical workflow consists of:\n",
    "* #### Normalisation - convert to lowercase and remove punctuation\n",
    "* #### Tokenisation - split into words/tokens\n",
    "* #### Remove stop words\n",
    "* #### Stemming/Lemmatisation - it is common to apply both - lemmatisation first and then stemming"
   ]
  }
 ],
 "metadata": {
  "kernelspec": {
   "display_name": "Python 3 (ipykernel)",
   "language": "python",
   "name": "python3"
  },
  "language_info": {
   "codemirror_mode": {
    "name": "ipython",
    "version": 3
   },
   "file_extension": ".py",
   "mimetype": "text/x-python",
   "name": "python",
   "nbconvert_exporter": "python",
   "pygments_lexer": "ipython3",
   "version": "3.9.7"
  }
 },
 "nbformat": 4,
 "nbformat_minor": 5
}
