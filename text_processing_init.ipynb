{
 "cells": [
  {
   "cell_type": "markdown",
   "id": "798070b3",
   "metadata": {},
   "source": [
    "# Capturing text data"
   ]
  },
  {
   "cell_type": "code",
   "execution_count": 12,
   "id": "cc46de91",
   "metadata": {},
   "outputs": [
    {
     "name": "stdout",
     "output_type": "stream",
     "text": [
      "Hieroglyphic writing dates from c. 3000 BC, and is composed of hundreds of symbols. A hieroglyph can represent a word, a sound, or a silent determinative; and the same symbol can serve different purposes in different contexts. Hieroglyphs were a formal script, used on stone monuments and in tombs, that could be as detailed as individual works of art.\n",
      "\n"
     ]
    }
   ],
   "source": [
    "import os\n",
    "\n",
    "with open(os.path.join('data', 'hieroglyph.txt'), 'r') as f:\n",
    "  text = f.read()\n",
    "  print(text)"
   ]
  },
  {
   "cell_type": "code",
   "execution_count": 3,
   "id": "fa6f86bd",
   "metadata": {},
   "outputs": [
    {
     "data": {
      "text/html": [
       "<div>\n",
       "<style scoped>\n",
       "    .dataframe tbody tr th:only-of-type {\n",
       "        vertical-align: middle;\n",
       "    }\n",
       "\n",
       "    .dataframe tbody tr th {\n",
       "        vertical-align: top;\n",
       "    }\n",
       "\n",
       "    .dataframe thead th {\n",
       "        text-align: right;\n",
       "    }\n",
       "</style>\n",
       "<table border=\"1\" class=\"dataframe\">\n",
       "  <thead>\n",
       "    <tr style=\"text-align: right;\">\n",
       "      <th></th>\n",
       "      <th>publisher</th>\n",
       "      <th>title</th>\n",
       "    </tr>\n",
       "  </thead>\n",
       "  <tbody>\n",
       "    <tr>\n",
       "      <th>0</th>\n",
       "      <td>Livemint</td>\n",
       "      <td>fed's charles plosser sees high bar for change...</td>\n",
       "    </tr>\n",
       "    <tr>\n",
       "      <th>1</th>\n",
       "      <td>IFA Magazine</td>\n",
       "      <td>us open: stocks fall after fed official hints ...</td>\n",
       "    </tr>\n",
       "    <tr>\n",
       "      <th>2</th>\n",
       "      <td>IFA Magazine</td>\n",
       "      <td>fed risks falling 'behind the curve', charles ...</td>\n",
       "    </tr>\n",
       "    <tr>\n",
       "      <th>3</th>\n",
       "      <td>Moneynews</td>\n",
       "      <td>fed's plosser: nasty weather has curbed job gr...</td>\n",
       "    </tr>\n",
       "    <tr>\n",
       "      <th>4</th>\n",
       "      <td>NASDAQ</td>\n",
       "      <td>plosser: fed may have to accelerate tapering pace</td>\n",
       "    </tr>\n",
       "  </tbody>\n",
       "</table>\n",
       "</div>"
      ],
      "text/plain": [
       "      publisher                                              title\n",
       "0      Livemint  fed's charles plosser sees high bar for change...\n",
       "1  IFA Magazine  us open: stocks fall after fed official hints ...\n",
       "2  IFA Magazine  fed risks falling 'behind the curve', charles ...\n",
       "3     Moneynews  fed's plosser: nasty weather has curbed job gr...\n",
       "4        NASDAQ  plosser: fed may have to accelerate tapering pace"
      ]
     },
     "execution_count": 3,
     "metadata": {},
     "output_type": "execute_result"
    }
   ],
   "source": [
    "import pandas as pd\n",
    "\n",
    "df = pd.read_csv(os.path.join('data','news.csv'))\n",
    "\n",
    "df['title'] = df['title'].str.lower()\n",
    "df.head()[['publisher', 'title']]"
   ]
  },
  {
   "cell_type": "code",
   "execution_count": 50,
   "id": "1f9f2213",
   "metadata": {},
   "outputs": [
    {
     "name": "stdout",
     "output_type": "stream",
     "text": [
      "Feeling grateful to or appreciative of someone or something in your life actually attracts more of the things that you appreciate and value into your life. \n",
      "-- Christiane Northrup\n"
     ]
    }
   ],
   "source": [
    "import requests\n",
    "\n",
    "r = requests.get('https://quotes.rest/qod.json')\n",
    "\n",
    "res = r.json()\n",
    "\n",
    "q = res['contents']['quotes'][0]\n",
    "print(q['quote'], '\\n--', q['author'])"
   ]
  },
  {
   "cell_type": "markdown",
   "id": "ab9f1ae8",
   "metadata": {},
   "source": [
    "# Cleaning"
   ]
  },
  {
   "cell_type": "code",
   "execution_count": 67,
   "id": "6c84560d",
   "metadata": {},
   "outputs": [
    {
     "name": "stdout",
     "output_type": "stream",
     "text": [
      "<html lang=\"en\" op=\"news\"><head><meta name=\"referrer\" content=\"origin\"><meta name=\"viewport\" content=\"width=device-width, initial-scale=1.0\"><link rel=\"stylesheet\" type=\"text/css\" href=\"news.css?sCHxrvQkfxYHN7U5AkST\">\n",
      "        <link rel=\"shortcut icon\" href=\"favicon.ico\">\n",
      "          <link rel=\"alternate\" type=\"application/rss+xml\" title=\"RSS\" href=\"rss\">\n",
      "        <title>Hacker News</title></head><body><center><table id=\"hnmain\" border=\"0\" cellpadding=\"0\" cellspacing=\"0\" width=\"85%\" bgcolor=\"#f6f6ef\">\n",
      "        <tr><td bgcolor=\"#ff6600\"><table border=\"0\" cellpadding=\"0\" cellspacing=\"0\" width=\"100%\" style=\"padding:2px\"><tr><td style=\"width:18px;padding-right:4px\"><a href=\"https://news.ycombinator.com\"><img src=\"y18.gif\" width=\"18\" height=\"18\" style=\"border:1px white solid;\"></a></td>\n",
      "                  <td style=\"line-height:12pt; height:10px;\"><span class=\"pagetop\"><b class=\"hnname\"><a href=\"news\">Hacker News</a></b>\n",
      "                            <a href=\"newest\">new</a> | <a href=\"front\">past</a> | <a href=\"newcomments\">comments</a> | <a href=\"ask\">ask</a> | <a href=\"show\">show</a> | <a href=\"jobs\">jobs</a> | <a href=\"submit\">submit</a>            </span></td><td style=\"text-align:right;padding-right:4px;\"><span class=\"pagetop\">\n",
      "                              <a href=\"login?goto=news\">login</a>\n",
      "                          </span></td>\n",
      "              </tr></table></td></tr>\n",
      "<tr id=\"pagespace\" title=\"\" style=\"height:10px\"></tr><tr><td><table border=\"0\" cellpadding=\"0\" cellspacing=\"0\">\n",
      "            <tr class='athing' id='34654937'>\n",
      "      <td align=\"right\" valign=\"top\" class=\"title\"><span class=\"rank\">1.</span></td>      <td valign=\"top\" class=\"votelinks\"><center><a id='up_34654937'href='vote?id=34654937&amp;how=up&amp;goto=news'><div class='votearrow' title='upvote'></div></a></center></td><td class=\"title\"><span class=\"titleline\"><a href=\"https://github.com/LAION-AI/Open-Assistant\">Open Assistant – project meant to give everyone access to a great chat based LLM</a><span class=\"sitebit comhead\"> (<a href=\"from?site=github.com/laion-ai\"><span class=\"sitestr\">github.com/laion-ai</span></a>)</span></span></td></tr><tr><td colspan=\"2\"></td><td class=\"subtext\"><span class=\"subline\">\n",
      "          <span class=\"score\" id=\"score_34654937\">238 points</span> by <a href=\"user?id=pps\" class=\"hnuser\">pps</a> <span class=\"age\" title=\"2023-02-04T14:56:35\"><a href=\"item?id=34654937\">2 hours ago</a></span> <span id=\"unv_34654937\"></span> | <a href=\"hide?id=34654937&amp;goto=news\">hide</a> | <a href=\"item?id=34654937\">91&nbsp;comments</a>        </span>\n",
      "              </td></tr>\n",
      "      <tr class=\"spacer\" style=\"height:5px\"></tr>\n",
      "                <tr class='athing' id='34653729'>\n",
      "      <td align=\"right\" valign=\"top\" class=\"title\"><span class=\"rank\">2.</span></td>      <td valign=\"top\" class=\"votelinks\"><center><a id='up_34653729'href='vote?id=34653729&amp;how=up&amp;goto=news'><div class='votearrow' title='upvote'></div></a></center></td><td class=\"title\"><span class=\"titleline\"><a href=\"https://eitherway.io/posts/esp32-buyers-guide/\">ESP32 Buyer’s Guide: Different Chips, Firmware, Sensors</a><span class=\"sitebit comhead\"> (<a href=\"from?site=eitherway.io\"><span class=\"sitestr\">eitherway.io</span></a>)</span></span></td></tr><tr><td colspan=\"2\"></td><td class=\"subtext\"><span class=\"subline\">\n",
      "          <span class=\"score\" id=\"score_34653729\">229 points</span> by <a href=\"user?id=eitherway\" class=\"hnuser\">eitherway</a> <span class=\"age\" title=\"2023-02-04T11:48:25\"><a href=\"item?id=34653729\">5 hours ago</a></span> <span id=\"unv_34653729\"></span> | <a href=\"hide?id=34653729&amp;goto=news\">hide</a> | <a href=\"item?id=34653729\">102&nbsp;comments</a>        </span>\n",
      "              </td></tr>\n",
      "      <tr class=\"spacer\" style=\"height:5px\"></tr>\n",
      "                <tr class='athing' id='34654809'>\n",
      "      <td align=\"right\" valign=\"top\" class=\"title\"><span class=\"rank\">3.</span></td>      <td valign=\"top\" class=\"votelinks\"><center><a id='up_34654809'href='vote?id=34654809&amp;how=up&amp;goto=news'><div class='votearrow' title='upvote'></div></a></center></td><td class=\"title\"><span class=\"titleline\"><a href=\"https://open-assistant.io/\">Open Assistant: Conversational AI for Everyone</a><span class=\"sitebit comhead\"> (<a href=\"from?site=open-assistant.io\"><span class=\"sitestr\">open-assistant.io</span></a>)</span></span></td></tr><tr><td colspan=\"2\"></td><td class=\"subtext\"><span class=\"subline\">\n",
      "          <span class=\"score\" id=\"score_34654809\">108 points</span> by <a href=\"user?id=chriskanan\" class=\"hnuser\">chriskanan</a> <span class=\"age\" title=\"2023-02-04T14:39:35\"><a href=\"item?id=34654809\">3 hours ago</a></span> <span id=\"unv_34654809\"></span> | <a href=\"hide?id=34654809&amp;goto=news\">hide</a> | <a href=\"item?id=34654809\">11&nbsp;comments</a>        </span>\n",
      "              </td></tr>\n",
      "      <tr class=\"spacer\" style=\"height:5px\"></tr>\n",
      "                <tr class='athing' id='34654580'>\n",
      "      <td align=\"right\" valign=\"top\" class=\"title\"><span class=\"rank\">4.</span></td>      <td valign=\"top\" class=\"votelinks\"><center><a id='up_34654580'href='vote?id=34654580&amp;how=up&amp;goto=news'><div class='votearrow' title='upvote'></div></a></center></td><td class=\"title\"><span class=\"titleline\"><a href=\"https://protocol.ai/blog/2023-02-03-crypto-winter-update/\">Protocol Labs is laying off 21% of staff (89 people)</a><span class=\"sitebit comhead\"> (<a href=\"from?site=protocol.ai\"><span class=\"sitestr\">protocol.ai</span></a>)</span></span></td></tr><tr><td colspan=\"2\"></td><td class=\"subtext\"><span class=\"subline\">\n",
      "          <span class=\"score\" id=\"score_34654580\">74 points</span> by <a href=\"user?id=throwaway257m\" class=\"hnuser\">throwaway257m</a> <span class=\"age\" title=\"2023-02-04T14:07:19\"><a href=\"item?id=34654580\">3 hours ago</a></span> <span id=\"unv_34654580\"></span> | <a href=\"hide?id=34654580&amp;goto=news\">hide</a> | <a href=\"item?id=34654580\">47&nbsp;comments</a>        </span>\n",
      "              </td></tr>\n",
      "      <tr class=\"spacer\" style=\"height:5px\"></tr>\n",
      "                <tr class='athing' id='34653405'>\n",
      "      <td align=\"right\" valign=\"top\" class=\"title\"><span class=\"rank\">5.</span></td>      <td valign=\"top\" class=\"votelinks\"><center><a id='up_34653405'href='vote?id=34653405&amp;how=up&amp;goto=news'><div class='votearrow' title='upvote'></div></a></center></td><td class=\"title\"><span class=\"titleline\"><a href=\"https://fosdem.org/2023/schedule/streaming/\">FOSDEM 2023 is live now</a><span class=\"sitebit comhead\"> (<a href=\"from?site=fosdem.org\"><span class=\"sitestr\">fosdem.org</span></a>)</span></span></td></tr><tr><td colspan=\"2\"></td><td class=\"subtext\"><span class=\"subline\">\n",
      "          <span class=\"score\" id=\"score_34653405\">241 points</span> by <a href=\"user?id=0x54MUR41\" class=\"hnuser\">0x54MUR41</a> <span class=\"age\" title=\"2023-02-04T10:39:23\"><a href=\"item?id=34653405\">7 hours ago</a></span> <span id=\"unv_34653405\"></span> | <a href=\"hide?id=34653405&amp;goto=news\">hide</a> | <a href=\"item?id=34653405\">29&nbsp;comments</a>        </span>\n",
      "              </td></tr>\n",
      "      <tr class=\"spacer\" style=\"height:5px\"></tr>\n",
      "                <tr class='athing' id='34654155'>\n",
      "      <td align=\"right\" valign=\"top\" class=\"title\"><span class=\"rank\">6.</span></td>      <td valign=\"top\" class=\"votelinks\"><center><a id='up_34654155'href='vote?id=34654155&amp;how=up&amp;goto=news'><div class='votearrow' title='upvote'></div></a></center></td><td class=\"title\"><span class=\"titleline\"><a href=\"https://www.science.org/content/blog-post/war-iron\">The War for Iron</a><span class=\"sitebit comhead\"> (<a href=\"from?site=science.org\"><span class=\"sitestr\">science.org</span></a>)</span></span></td></tr><tr><td colspan=\"2\"></td><td class=\"subtext\"><span class=\"subline\">\n",
      "          <span class=\"score\" id=\"score_34654155\">76 points</span> by <a href=\"user?id=etiam\" class=\"hnuser\">etiam</a> <span class=\"age\" title=\"2023-02-04T13:08:20\"><a href=\"item?id=34654155\">4 hours ago</a></span> <span id=\"unv_34654155\"></span> | <a href=\"hide?id=34654155&amp;goto=news\">hide</a> | <a href=\"item?id=34654155\">22&nbsp;comments</a>        </span>\n",
      "              </td></tr>\n",
      "      <tr class=\"spacer\" style=\"height:5px\"></tr>\n",
      "                <tr class='athing' id='34655930'>\n",
      "      <td align=\"right\" valign=\"top\" class=\"title\"><span class=\"rank\">7.</span></td>      <td><img src=\"s.gif\" height=\"1\" width=\"14\"></td>       <td class=\"title\"><span class=\"titleline\"><a href=\"https://www.ycombinator.com/companies/patterns\" rel=\"nofollow\">Patterns (YC S21) is hiring to build the best AI app dev platform</a><span class=\"sitebit comhead\"> (<a href=\"from?site=ycombinator.com\"><span class=\"sitestr\">ycombinator.com</span></a>)</span></span></td></tr><tr><td colspan=\"2\"></td><td class=\"subtext\">\n",
      "        <span class=\"age\" title=\"2023-02-04T17:00:50\"><a href=\"item?id=34655930\">42 minutes ago</a></span> | <a href=\"hide?id=34655930&amp;goto=news\">hide</a>      </td></tr>\n",
      "      <tr class=\"spacer\" style=\"height:5px\"></tr>\n",
      "                <tr class='athing' id='34653462'>\n",
      "      <td align=\"right\" valign=\"top\" class=\"title\"><span class=\"rank\">8.</span></td>      <td valign=\"top\" class=\"votelinks\"><center><a id='up_34653462'href='vote?id=34653462&amp;how=up&amp;goto=news'><div class='votearrow' title='upvote'></div></a></center></td><td class=\"title\"><span class=\"titleline\"><a href=\"https://mathshistory.st-andrews.ac.uk/HistTopics/Matrices_and_determinants/\">2000 Years of Matrix Multiplication</a><span class=\"sitebit comhead\"> (<a href=\"from?site=st-andrews.ac.uk\"><span class=\"sitestr\">st-andrews.ac.uk</span></a>)</span></span></td></tr><tr><td colspan=\"2\"></td><td class=\"subtext\"><span class=\"subline\">\n",
      "          <span class=\"score\" id=\"score_34653462\">122 points</span> by <a href=\"user?id=nothrowaways\" class=\"hnuser\">nothrowaways</a> <span class=\"age\" title=\"2023-02-04T10:51:48\"><a href=\"item?id=34653462\">6 hours ago</a></span> <span id=\"unv_34653462\"></span> | <a href=\"hide?id=34653462&amp;goto=news\">hide</a> | <a href=\"item?id=34653462\">12&nbsp;comments</a>        </span>\n",
      "              </td></tr>\n",
      "      <tr class=\"spacer\" style=\"height:5px\"></tr>\n",
      "                <tr class='athing' id='34656008'>\n",
      "      <td align=\"right\" valign=\"top\" class=\"title\"><span class=\"rank\">9.</span></td>      <td valign=\"top\" class=\"votelinks\"><center><a id='up_34656008'href='vote?id=34656008&amp;how=up&amp;goto=news'><div class='votearrow' title='upvote'></div></a></center></td><td class=\"title\"><span class=\"titleline\"><a href=\"https://inorris.com/Blog/GPT/\" rel=\"nofollow\">Understanding the limits of large language models</a><span class=\"sitebit comhead\"> (<a href=\"from?site=inorris.com\"><span class=\"sitestr\">inorris.com</span></a>)</span></span></td></tr><tr><td colspan=\"2\"></td><td class=\"subtext\"><span class=\"subline\">\n",
      "          <span class=\"score\" id=\"score_34656008\">7 points</span> by <a href=\"user?id=IanNorris\" class=\"hnuser\">IanNorris</a> <span class=\"age\" title=\"2023-02-04T17:08:39\"><a href=\"item?id=34656008\">34 minutes ago</a></span> <span id=\"unv_34656008\"></span> | <a href=\"hide?id=34656008&amp;goto=news\">hide</a> | <a href=\"item?id=34656008\">discuss</a>        </span>\n",
      "              </td></tr>\n",
      "      <tr class=\"spacer\" style=\"height:5px\"></tr>\n",
      "                <tr class='athing' id='34656184'>\n",
      "      <td align=\"right\" valign=\"top\" class=\"title\"><span class=\"rank\">10.</span></td>      <td valign=\"top\" class=\"votelinks\"><center><a id='up_34656184'href='vote?id=34656184&amp;how=up&amp;goto=news'><div class='votearrow' title='upvote'></div></a></center></td><td class=\"title\"><span class=\"titleline\"><a href=\"https://gitlab.freedesktop.org/mesa/mesa/-/merge_requests/20835\" rel=\"nofollow\">Mesa 23.1 Includes Asahi Linux Gallium3D Driver Progress</a><span class=\"sitebit comhead\"> (<a href=\"from?site=freedesktop.org\"><span class=\"sitestr\">freedesktop.org</span></a>)</span></span></td></tr><tr><td colspan=\"2\"></td><td class=\"subtext\"><span class=\"subline\">\n",
      "          <span class=\"score\" id=\"score_34656184\">4 points</span> by <a href=\"user?id=cf100clunk\" class=\"hnuser\">cf100clunk</a> <span class=\"age\" title=\"2023-02-04T17:27:03\"><a href=\"item?id=34656184\">16 minutes ago</a></span> <span id=\"unv_34656184\"></span> | <a href=\"hide?id=34656184&amp;goto=news\">hide</a> | <a href=\"item?id=34656184\">discuss</a>        </span>\n",
      "              </td></tr>\n",
      "      <tr class=\"spacer\" style=\"height:5px\"></tr>\n",
      "                <tr class='athing' id='34653813'>\n",
      "      <td align=\"right\" valign=\"top\" class=\"title\"><span class=\"rank\">11.</span></td>      <td valign=\"top\" class=\"votelinks\"><center><a id='up_34653813'href='vote?id=34653813&amp;how=up&amp;goto=news'><div class='votearrow' title='upvote'></div></a></center></td><td class=\"title\"><span class=\"titleline\"><a href=\"https://tyrrrz.me/blog/reverse-engineering-youtube-revisited\">Reverse-Engineering YouTube: Revisited</a><span class=\"sitebit comhead\"> (<a href=\"from?site=tyrrrz.me\"><span class=\"sitestr\">tyrrrz.me</span></a>)</span></span></td></tr><tr><td colspan=\"2\"></td><td class=\"subtext\"><span class=\"subline\">\n",
      "          <span class=\"score\" id=\"score_34653813\">104 points</span> by <a href=\"user?id=tyrrrz\" class=\"hnuser\">tyrrrz</a> <span class=\"age\" title=\"2023-02-04T12:01:25\"><a href=\"item?id=34653813\">5 hours ago</a></span> <span id=\"unv_34653813\"></span> | <a href=\"hide?id=34653813&amp;goto=news\">hide</a> | <a href=\"item?id=34653813\">14&nbsp;comments</a>        </span>\n",
      "              </td></tr>\n",
      "      <tr class=\"spacer\" style=\"height:5px\"></tr>\n",
      "                <tr class='athing' id='34652754'>\n",
      "      <td align=\"right\" valign=\"top\" class=\"title\"><span class=\"rank\">12.</span></td>      <td valign=\"top\" class=\"votelinks\"><center><a id='up_34652754'href='vote?id=34652754&amp;how=up&amp;goto=news'><div class='votearrow' title='upvote'></div></a></center></td><td class=\"title\"><span class=\"titleline\"><a href=\"https://www.ndsu.edu/agriculture/extension/publications/air-air-heat-exchangers-healthier-energy-efficient-homes\">Air-to-Air Heat Exchangers for Healthier Energy-Efficient Homes</a><span class=\"sitebit comhead\"> (<a href=\"from?site=ndsu.edu\"><span class=\"sitestr\">ndsu.edu</span></a>)</span></span></td></tr><tr><td colspan=\"2\"></td><td class=\"subtext\"><span class=\"subline\">\n",
      "          <span class=\"score\" id=\"score_34652754\">191 points</span> by <a href=\"user?id=MengerSponge\" class=\"hnuser\">MengerSponge</a> <span class=\"age\" title=\"2023-02-04T08:26:39\"><a href=\"item?id=34652754\">9 hours ago</a></span> <span id=\"unv_34652754\"></span> | <a href=\"hide?id=34652754&amp;goto=news\">hide</a> | <a href=\"item?id=34652754\">90&nbsp;comments</a>        </span>\n",
      "              </td></tr>\n",
      "      <tr class=\"spacer\" style=\"height:5px\"></tr>\n",
      "                <tr class='athing' id='34653838'>\n",
      "      <td align=\"right\" valign=\"top\" class=\"title\"><span class=\"rank\">13.</span></td>      <td valign=\"top\" class=\"votelinks\"><center><a id='up_34653838'href='vote?id=34653838&amp;how=up&amp;goto=news'><div class='votearrow' title='upvote'></div></a></center></td><td class=\"title\"><span class=\"titleline\"><a href=\"https://news.mit.edu/2019/mit-engineers-develop-new-way-remove-carbon-dioxide-air-1025\">MIT engineers develop a new way to remove carbon dioxide from air (2019)</a><span class=\"sitebit comhead\"> (<a href=\"from?site=news.mit.edu\"><span class=\"sitestr\">news.mit.edu</span></a>)</span></span></td></tr><tr><td colspan=\"2\"></td><td class=\"subtext\"><span class=\"subline\">\n",
      "          <span class=\"score\" id=\"score_34653838\">67 points</span> by <a href=\"user?id=gozzoo\" class=\"hnuser\">gozzoo</a> <span class=\"age\" title=\"2023-02-04T12:05:19\"><a href=\"item?id=34653838\">5 hours ago</a></span> <span id=\"unv_34653838\"></span> | <a href=\"hide?id=34653838&amp;goto=news\">hide</a> | <a href=\"item?id=34653838\">47&nbsp;comments</a>        </span>\n",
      "              </td></tr>\n",
      "      <tr class=\"spacer\" style=\"height:5px\"></tr>\n",
      "                <tr class='athing' id='34650523'>\n",
      "      <td align=\"right\" valign=\"top\" class=\"title\"><span class=\"rank\">14.</span></td>      <td valign=\"top\" class=\"votelinks\"><center><a id='up_34650523'href='vote?id=34650523&amp;how=up&amp;goto=news'><div class='votearrow' title='upvote'></div></a></center></td><td class=\"title\"><span class=\"titleline\"><a href=\"https://minnie.tuhs.org/pipermail/tuhs/2023-February/027644.html\">Setuid in Unix created to enable a game</a><span class=\"sitebit comhead\"> (<a href=\"from?site=tuhs.org\"><span class=\"sitestr\">tuhs.org</span></a>)</span></span></td></tr><tr><td colspan=\"2\"></td><td class=\"subtext\"><span class=\"subline\">\n",
      "          <span class=\"score\" id=\"score_34650523\">43 points</span> by <a href=\"user?id=zdw\" class=\"hnuser\">zdw</a> <span class=\"age\" title=\"2023-02-04T01:53:02\"><a href=\"item?id=34650523\">4 hours ago</a></span> <span id=\"unv_34650523\"></span> | <a href=\"hide?id=34650523&amp;goto=news\">hide</a> | <a href=\"item?id=34650523\">3&nbsp;comments</a>        </span>\n",
      "              </td></tr>\n",
      "      <tr class=\"spacer\" style=\"height:5px\"></tr>\n",
      "                <tr class='athing' id='34625563'>\n",
      "      <td align=\"right\" valign=\"top\" class=\"title\"><span class=\"rank\">15.</span></td>      <td valign=\"top\" class=\"votelinks\"><center><a id='up_34625563'href='vote?id=34625563&amp;how=up&amp;goto=news'><div class='votearrow' title='upvote'></div></a></center></td><td class=\"title\"><span class=\"titleline\"><a href=\"https://onezero.medium.com/what-makes-it-possible-to-browse-the-internet-at-35-000-feet-1afaea83eb5\">The Science of Wi-Fi on Airplanes (2019)</a><span class=\"sitebit comhead\"> (<a href=\"from?site=onezero.medium.com\"><span class=\"sitestr\">onezero.medium.com</span></a>)</span></span></td></tr><tr><td colspan=\"2\"></td><td class=\"subtext\"><span class=\"subline\">\n",
      "          <span class=\"score\" id=\"score_34625563\">15 points</span> by <a href=\"user?id=tosh\" class=\"hnuser\">tosh</a> <span class=\"age\" title=\"2023-02-02T12:21:39\"><a href=\"item?id=34625563\">1 hour ago</a></span> <span id=\"unv_34625563\"></span> | <a href=\"hide?id=34625563&amp;goto=news\">hide</a> | <a href=\"item?id=34625563\">1&nbsp;comment</a>        </span>\n",
      "              </td></tr>\n",
      "      <tr class=\"spacer\" style=\"height:5px\"></tr>\n",
      "                <tr class='athing' id='34640416'>\n",
      "      <td align=\"right\" valign=\"top\" class=\"title\"><span class=\"rank\">16.</span></td>      <td valign=\"top\" class=\"votelinks\"><center><a id='up_34640416'href='vote?id=34640416&amp;how=up&amp;goto=news'><div class='votearrow' title='upvote'></div></a></center></td><td class=\"title\"><span class=\"titleline\"><a href=\"https://www.scryer.pl\">Scryer Prolog</a><span class=\"sitebit comhead\"> (<a href=\"from?site=scryer.pl\"><span class=\"sitestr\">scryer.pl</span></a>)</span></span></td></tr><tr><td colspan=\"2\"></td><td class=\"subtext\"><span class=\"subline\">\n",
      "          <span class=\"score\" id=\"score_34640416\">69 points</span> by <a href=\"user?id=aarroyoc\" class=\"hnuser\">aarroyoc</a> <span class=\"age\" title=\"2023-02-03T12:54:12\"><a href=\"item?id=34640416\">6 hours ago</a></span> <span id=\"unv_34640416\"></span> | <a href=\"hide?id=34640416&amp;goto=news\">hide</a> | <a href=\"item?id=34640416\">15&nbsp;comments</a>        </span>\n",
      "              </td></tr>\n",
      "      <tr class=\"spacer\" style=\"height:5px\"></tr>\n",
      "                <tr class='athing' id='34654649'>\n",
      "      <td align=\"right\" valign=\"top\" class=\"title\"><span class=\"rank\">17.</span></td>      <td valign=\"top\" class=\"votelinks\"><center><a id='up_34654649'href='vote?id=34654649&amp;how=up&amp;goto=news'><div class='votearrow' title='upvote'></div></a></center></td><td class=\"title\"><span class=\"titleline\"><a href=\"https://www.tomshardware.com/news/tiny11-lean-windows-11\">De-Bloated Windows 11 Build Runs on 2GB of RAM</a><span class=\"sitebit comhead\"> (<a href=\"from?site=tomshardware.com\"><span class=\"sitestr\">tomshardware.com</span></a>)</span></span></td></tr><tr><td colspan=\"2\"></td><td class=\"subtext\"><span class=\"subline\">\n",
      "          <span class=\"score\" id=\"score_34654649\">129 points</span> by <a href=\"user?id=smusamashah\" class=\"hnuser\">smusamashah</a> <span class=\"age\" title=\"2023-02-04T14:17:25\"><a href=\"item?id=34654649\">3 hours ago</a></span> <span id=\"unv_34654649\"></span> | <a href=\"hide?id=34654649&amp;goto=news\">hide</a> | <a href=\"item?id=34654649\">93&nbsp;comments</a>        </span>\n",
      "              </td></tr>\n",
      "      <tr class=\"spacer\" style=\"height:5px\"></tr>\n",
      "                <tr class='athing' id='34655252'>\n",
      "      <td align=\"right\" valign=\"top\" class=\"title\"><span class=\"rank\">18.</span></td>      <td valign=\"top\" class=\"votelinks\"><center><a id='up_34655252'href='vote?id=34655252&amp;how=up&amp;goto=news'><div class='votearrow' title='upvote'></div></a></center></td><td class=\"title\"><span class=\"titleline\"><a href=\"https://fwupd.org\">LVFS – Linux Vendor Firmware Service</a><span class=\"sitebit comhead\"> (<a href=\"from?site=fwupd.org\"><span class=\"sitestr\">fwupd.org</span></a>)</span></span></td></tr><tr><td colspan=\"2\"></td><td class=\"subtext\"><span class=\"subline\">\n",
      "          <span class=\"score\" id=\"score_34655252\">8 points</span> by <a href=\"user?id=nickexyz\" class=\"hnuser\">nickexyz</a> <span class=\"age\" title=\"2023-02-04T15:41:10\"><a href=\"item?id=34655252\">2 hours ago</a></span> <span id=\"unv_34655252\"></span> | <a href=\"hide?id=34655252&amp;goto=news\">hide</a> | <a href=\"item?id=34655252\">4&nbsp;comments</a>        </span>\n",
      "              </td></tr>\n",
      "      <tr class=\"spacer\" style=\"height:5px\"></tr>\n",
      "                <tr class='athing' id='34622953'>\n",
      "      <td align=\"right\" valign=\"top\" class=\"title\"><span class=\"rank\">19.</span></td>      <td valign=\"top\" class=\"votelinks\"><center><a id='up_34622953'href='vote?id=34622953&amp;how=up&amp;goto=news'><div class='votearrow' title='upvote'></div></a></center></td><td class=\"title\"><span class=\"titleline\"><a href=\"https://blog.frankdejonge.nl/reliable-event-dispatching-using-a-transactional-outbox/\">Reliable event dispatching using a transactional outbox</a><span class=\"sitebit comhead\"> (<a href=\"from?site=frankdejonge.nl\"><span class=\"sitestr\">frankdejonge.nl</span></a>)</span></span></td></tr><tr><td colspan=\"2\"></td><td class=\"subtext\"><span class=\"subline\">\n",
      "          <span class=\"score\" id=\"score_34622953\">13 points</span> by <a href=\"user?id=losfair\" class=\"hnuser\">losfair</a> <span class=\"age\" title=\"2023-02-02T06:35:02\"><a href=\"item?id=34622953\">2 hours ago</a></span> <span id=\"unv_34622953\"></span> | <a href=\"hide?id=34622953&amp;goto=news\">hide</a> | <a href=\"item?id=34622953\">1&nbsp;comment</a>        </span>\n",
      "              </td></tr>\n",
      "      <tr class=\"spacer\" style=\"height:5px\"></tr>\n",
      "                <tr class='athing' id='34653843'>\n",
      "      <td align=\"right\" valign=\"top\" class=\"title\"><span class=\"rank\">20.</span></td>      <td valign=\"top\" class=\"votelinks\"><center><a id='up_34653843'href='vote?id=34653843&amp;how=up&amp;goto=news'><div class='votearrow' title='upvote'></div></a></center></td><td class=\"title\"><span class=\"titleline\"><a href=\"https://academic.oup.com/esr/advance-article/doi/10.1093/esr/jcac076/7008955\">The plateauing of cognitive ability among top earners</a><span class=\"sitebit comhead\"> (<a href=\"from?site=oup.com\"><span class=\"sitestr\">oup.com</span></a>)</span></span></td></tr><tr><td colspan=\"2\"></td><td class=\"subtext\"><span class=\"subline\">\n",
      "          <span class=\"score\" id=\"score_34653843\">136 points</span> by <a href=\"user?id=luu\" class=\"hnuser\">luu</a> <span class=\"age\" title=\"2023-02-04T12:06:12\"><a href=\"item?id=34653843\">5 hours ago</a></span> <span id=\"unv_34653843\"></span> | <a href=\"hide?id=34653843&amp;goto=news\">hide</a> | <a href=\"item?id=34653843\">117&nbsp;comments</a>        </span>\n",
      "              </td></tr>\n",
      "      <tr class=\"spacer\" style=\"height:5px\"></tr>\n",
      "                <tr class='athing' id='34639467'>\n",
      "      <td align=\"right\" valign=\"top\" class=\"title\"><span class=\"rank\">21.</span></td>      <td valign=\"top\" class=\"votelinks\"><center><a id='up_34639467'href='vote?id=34639467&amp;how=up&amp;goto=news'><div class='votearrow' title='upvote'></div></a></center></td><td class=\"title\"><span class=\"titleline\"><a href=\"https://www.gpb.org/news/2023/01/30/maine-community-comes-together-save-candlepin-bowling-tradition\">A Maine community comes together to save a candlepin bowling tradition</a><span class=\"sitebit comhead\"> (<a href=\"from?site=gpb.org\"><span class=\"sitestr\">gpb.org</span></a>)</span></span></td></tr><tr><td colspan=\"2\"></td><td class=\"subtext\"><span class=\"subline\">\n",
      "          <span class=\"score\" id=\"score_34639467\">63 points</span> by <a href=\"user?id=Tomte\" class=\"hnuser\">Tomte</a> <span class=\"age\" title=\"2023-02-03T10:28:00\"><a href=\"item?id=34639467\">8 hours ago</a></span> <span id=\"unv_34639467\"></span> | <a href=\"hide?id=34639467&amp;goto=news\">hide</a> | <a href=\"item?id=34639467\">34&nbsp;comments</a>        </span>\n",
      "              </td></tr>\n",
      "      <tr class=\"spacer\" style=\"height:5px\"></tr>\n",
      "                <tr class='athing' id='34651799'>\n",
      "      <td align=\"right\" valign=\"top\" class=\"title\"><span class=\"rank\">22.</span></td>      <td valign=\"top\" class=\"votelinks\"><center><a id='up_34651799'href='vote?id=34651799&amp;how=up&amp;goto=news'><div class='votearrow' title='upvote'></div></a></center></td><td class=\"title\"><span class=\"titleline\"><a href=\"https://utcc.utoronto.ca/~cks/space/blog/tech/AMDandItanium\">AMD Killed the Itanium (2005)</a><span class=\"sitebit comhead\"> (<a href=\"from?site=utoronto.ca\"><span class=\"sitestr\">utoronto.ca</span></a>)</span></span></td></tr><tr><td colspan=\"2\"></td><td class=\"subtext\"><span class=\"subline\">\n",
      "          <span class=\"score\" id=\"score_34651799\">134 points</span> by <a href=\"user?id=todsacerdoti\" class=\"hnuser\">todsacerdoti</a> <span class=\"age\" title=\"2023-02-04T05:22:32\"><a href=\"item?id=34651799\">12 hours ago</a></span> <span id=\"unv_34651799\"></span> | <a href=\"hide?id=34651799&amp;goto=news\">hide</a> | <a href=\"item?id=34651799\">172&nbsp;comments</a>        </span>\n",
      "              </td></tr>\n",
      "      <tr class=\"spacer\" style=\"height:5px\"></tr>\n",
      "                <tr class='athing' id='34655130'>\n",
      "      <td align=\"right\" valign=\"top\" class=\"title\"><span class=\"rank\">23.</span></td>      <td valign=\"top\" class=\"votelinks\"><center><a id='up_34655130'href='vote?id=34655130&amp;how=up&amp;goto=news'><div class='votearrow' title='upvote'></div></a></center></td><td class=\"title\"><span class=\"titleline\"><a href=\"https://www.vice.com/en/article/k7bdmv/judge-used-chatgpt-to-make-court-decision\">Colombian judge used ChatGPT to make court decision</a><span class=\"sitebit comhead\"> (<a href=\"from?site=vice.com\"><span class=\"sitestr\">vice.com</span></a>)</span></span></td></tr><tr><td colspan=\"2\"></td><td class=\"subtext\"><span class=\"subline\">\n",
      "          <span class=\"score\" id=\"score_34655130\">48 points</span> by <a href=\"user?id=azefiel\" class=\"hnuser\">azefiel</a> <span class=\"age\" title=\"2023-02-04T15:25:55\"><a href=\"item?id=34655130\">2 hours ago</a></span> <span id=\"unv_34655130\"></span> | <a href=\"hide?id=34655130&amp;goto=news\">hide</a> | <a href=\"item?id=34655130\">27&nbsp;comments</a>        </span>\n",
      "              </td></tr>\n",
      "      <tr class=\"spacer\" style=\"height:5px\"></tr>\n",
      "                <tr class='athing' id='34652053'>\n",
      "      <td align=\"right\" valign=\"top\" class=\"title\"><span class=\"rank\">24.</span></td>      <td valign=\"top\" class=\"votelinks\"><center><a id='up_34652053'href='vote?id=34652053&amp;how=up&amp;goto=news'><div class='votearrow' title='upvote'></div></a></center></td><td class=\"title\"><span class=\"titleline\"><a href=\"https://www.nigamanth.com/blog/2023/cube-roots-trick.html\">Solving the cube root of 19,683 mentally</a><span class=\"sitebit comhead\"> (<a href=\"from?site=nigamanth.com\"><span class=\"sitestr\">nigamanth.com</span></a>)</span></span></td></tr><tr><td colspan=\"2\"></td><td class=\"subtext\"><span class=\"subline\">\n",
      "          <span class=\"score\" id=\"score_34652053\">108 points</span> by <a href=\"user?id=nigamanth\" class=\"hnuser\">nigamanth</a> <span class=\"age\" title=\"2023-02-04T06:16:45\"><a href=\"item?id=34652053\">11 hours ago</a></span> <span id=\"unv_34652053\"></span> | <a href=\"hide?id=34652053&amp;goto=news\">hide</a> | <a href=\"item?id=34652053\">72&nbsp;comments</a>        </span>\n",
      "              </td></tr>\n",
      "      <tr class=\"spacer\" style=\"height:5px\"></tr>\n",
      "                <tr class='athing' id='34653264'>\n",
      "      <td align=\"right\" valign=\"top\" class=\"title\"><span class=\"rank\">25.</span></td>      <td valign=\"top\" class=\"votelinks\"><center><a id='up_34653264'href='vote?id=34653264&amp;how=up&amp;goto=news'><div class='votearrow' title='upvote'></div></a></center></td><td class=\"title\"><span class=\"titleline\"><a href=\"https://collabfund.com/blog/everything-you-cant-have/\">Everything You Can’t Have</a><span class=\"sitebit comhead\"> (<a href=\"from?site=collabfund.com\"><span class=\"sitestr\">collabfund.com</span></a>)</span></span></td></tr><tr><td colspan=\"2\"></td><td class=\"subtext\"><span class=\"subline\">\n",
      "          <span class=\"score\" id=\"score_34653264\">66 points</span> by <a href=\"user?id=toto444\" class=\"hnuser\">toto444</a> <span class=\"age\" title=\"2023-02-04T10:07:18\"><a href=\"item?id=34653264\">7 hours ago</a></span> <span id=\"unv_34653264\"></span> | <a href=\"hide?id=34653264&amp;goto=news\">hide</a> | <a href=\"item?id=34653264\">63&nbsp;comments</a>        </span>\n",
      "              </td></tr>\n",
      "      <tr class=\"spacer\" style=\"height:5px\"></tr>\n",
      "                <tr class='athing' id='34639445'>\n",
      "      <td align=\"right\" valign=\"top\" class=\"title\"><span class=\"rank\">26.</span></td>      <td valign=\"top\" class=\"votelinks\"><center><a id='up_34639445'href='vote?id=34639445&amp;how=up&amp;goto=news'><div class='votearrow' title='upvote'></div></a></center></td><td class=\"title\"><span class=\"titleline\"><a href=\"https://retractionwatch.com/2023/02/02/did-david-hume-retract-2-essays-on-immorality-to-avoid-religious-controversy/\">Did David Hume retract 2 essays on immorality to avoid religious controversy?</a><span class=\"sitebit comhead\"> (<a href=\"from?site=retractionwatch.com\"><span class=\"sitestr\">retractionwatch.com</span></a>)</span></span></td></tr><tr><td colspan=\"2\"></td><td class=\"subtext\"><span class=\"subline\">\n",
      "          <span class=\"score\" id=\"score_34639445\">35 points</span> by <a href=\"user?id=samizdis\" class=\"hnuser\">samizdis</a> <span class=\"age\" title=\"2023-02-03T10:23:51\"><a href=\"item?id=34639445\">7 hours ago</a></span> <span id=\"unv_34639445\"></span> | <a href=\"hide?id=34639445&amp;goto=news\">hide</a> | <a href=\"item?id=34639445\">16&nbsp;comments</a>        </span>\n",
      "              </td></tr>\n",
      "      <tr class=\"spacer\" style=\"height:5px\"></tr>\n",
      "                <tr class='athing' id='34623041'>\n",
      "      <td align=\"right\" valign=\"top\" class=\"title\"><span class=\"rank\">27.</span></td>      <td valign=\"top\" class=\"votelinks\"><center><a id='up_34623041'href='vote?id=34623041&amp;how=up&amp;goto=news'><div class='votearrow' title='upvote'></div></a></center></td><td class=\"title\"><span class=\"titleline\"><a href=\"https://www.netbsd.org/docs/guide/en/chap-pam.html\">Pluggable Authentication Modules (PAM)</a><span class=\"sitebit comhead\"> (<a href=\"from?site=netbsd.org\"><span class=\"sitestr\">netbsd.org</span></a>)</span></span></td></tr><tr><td colspan=\"2\"></td><td class=\"subtext\"><span class=\"subline\">\n",
      "          <span class=\"score\" id=\"score_34623041\">27 points</span> by <a href=\"user?id=networked\" class=\"hnuser\">networked</a> <span class=\"age\" title=\"2023-02-02T06:47:19\"><a href=\"item?id=34623041\">6 hours ago</a></span> <span id=\"unv_34623041\"></span> | <a href=\"hide?id=34623041&amp;goto=news\">hide</a> | <a href=\"item?id=34623041\">5&nbsp;comments</a>        </span>\n",
      "              </td></tr>\n",
      "      <tr class=\"spacer\" style=\"height:5px\"></tr>\n",
      "                <tr class='athing' id='34654569'>\n",
      "      <td align=\"right\" valign=\"top\" class=\"title\"><span class=\"rank\">28.</span></td>      <td valign=\"top\" class=\"votelinks\"><center><a id='up_34654569'href='vote?id=34654569&amp;how=up&amp;goto=news'><div class='votearrow' title='upvote'></div></a></center></td><td class=\"title\"><span class=\"titleline\"><a href=\"https://www.sciencedaily.com/releases/2023/02/230201134112.htm\">Astronomers uncover a one-in-ten-billion binary star system</a><span class=\"sitebit comhead\"> (<a href=\"from?site=sciencedaily.com\"><span class=\"sitestr\">sciencedaily.com</span></a>)</span></span></td></tr><tr><td colspan=\"2\"></td><td class=\"subtext\"><span class=\"subline\">\n",
      "          <span class=\"score\" id=\"score_34654569\">45 points</span> by <a href=\"user?id=jdmark\" class=\"hnuser\">jdmark</a> <span class=\"age\" title=\"2023-02-04T14:05:18\"><a href=\"item?id=34654569\">3 hours ago</a></span> <span id=\"unv_34654569\"></span> | <a href=\"hide?id=34654569&amp;goto=news\">hide</a> | <a href=\"item?id=34654569\">5&nbsp;comments</a>        </span>\n",
      "              </td></tr>\n",
      "      <tr class=\"spacer\" style=\"height:5px\"></tr>\n",
      "                <tr class='athing' id='34650908'>\n",
      "      <td align=\"right\" valign=\"top\" class=\"title\"><span class=\"rank\">29.</span></td>      <td valign=\"top\" class=\"votelinks\"><center><a id='up_34650908'href='vote?id=34650908&amp;how=up&amp;goto=news'><div class='votearrow' title='upvote'></div></a></center></td><td class=\"title\"><span class=\"titleline\"><a href=\"https://herbcaudill.com/words/20190219-rewrite-refactor-reinvent\">Rewrite, refactor, or reinvent? Lessons from 6 software rewrite stories (2019)</a><span class=\"sitebit comhead\"> (<a href=\"from?site=herbcaudill.com\"><span class=\"sitestr\">herbcaudill.com</span></a>)</span></span></td></tr><tr><td colspan=\"2\"></td><td class=\"subtext\"><span class=\"subline\">\n",
      "          <span class=\"score\" id=\"score_34650908\">113 points</span> by <a href=\"user?id=akkartik\" class=\"hnuser\">akkartik</a> <span class=\"age\" title=\"2023-02-04T02:53:39\"><a href=\"item?id=34650908\">14 hours ago</a></span> <span id=\"unv_34650908\"></span> | <a href=\"hide?id=34650908&amp;goto=news\">hide</a> | <a href=\"item?id=34650908\">38&nbsp;comments</a>        </span>\n",
      "              </td></tr>\n",
      "      <tr class=\"spacer\" style=\"height:5px\"></tr>\n",
      "                <tr class='athing' id='34637863'>\n",
      "      <td align=\"right\" valign=\"top\" class=\"title\"><span class=\"rank\">30.</span></td>      <td valign=\"top\" class=\"votelinks\"><center><a id='up_34637863'href='vote?id=34637863&amp;how=up&amp;goto=news'><div class='votearrow' title='upvote'></div></a></center></td><td class=\"title\"><span class=\"titleline\"><a href=\"https://twobithistory.org/2021/03/08/arpanet-protocols.html\">How the ARPANET Protocols Worked (2021)</a><span class=\"sitebit comhead\"> (<a href=\"from?site=twobithistory.org\"><span class=\"sitestr\">twobithistory.org</span></a>)</span></span></td></tr><tr><td colspan=\"2\"></td><td class=\"subtext\"><span class=\"subline\">\n",
      "          <span class=\"score\" id=\"score_34637863\">69 points</span> by <a href=\"user?id=whatrocks\" class=\"hnuser\">whatrocks</a> <span class=\"age\" title=\"2023-02-03T06:35:54\"><a href=\"item?id=34637863\">12 hours ago</a></span> <span id=\"unv_34637863\"></span> | <a href=\"hide?id=34637863&amp;goto=news\">hide</a> | <a href=\"item?id=34637863\">2&nbsp;comments</a>        </span>\n",
      "              </td></tr>\n",
      "      <tr class=\"spacer\" style=\"height:5px\"></tr>\n",
      "            <tr class=\"morespace\" style=\"height:10px\"></tr><tr><td colspan=\"2\"></td>\n",
      "      <td class='title'><a href='?p=2' class='morelink' rel='next'>More</a></td>    </tr>\n",
      "  </table>\n",
      "</td></tr>\n",
      "<tr><td><img src=\"s.gif\" height=\"10\" width=\"0\"><table width=\"100%\" cellspacing=\"0\" cellpadding=\"1\"><tr><td bgcolor=\"#ff6600\"></td></tr></table><br>\n",
      "<center><span class=\"yclinks\"><a href=\"newsguidelines.html\">Guidelines</a> | <a href=\"newsfaq.html\">FAQ</a> | <a href=\"lists\">Lists</a> | <a href=\"https://github.com/HackerNews/API\">API</a> | <a href=\"security.html\">Security</a> | <a href=\"https://www.ycombinator.com/legal/\">Legal</a> | <a href=\"https://www.ycombinator.com/apply/\">Apply to YC</a> | <a href=\"mailto:hn@ycombinator.com\">Contact</a></span><br><br>\n",
      "<form method=\"get\" action=\"//hn.algolia.com/\">Search: <input type=\"text\" name=\"q\" size=\"17\" autocorrect=\"off\" spellcheck=\"false\" autocapitalize=\"off\" autocomplete=\"false\"></form></center></td></tr>      </table></center></body>\n",
      "      <script type='text/javascript' src='hn.js?sCHxrvQkfxYHN7U5AkST'></script>\n",
      "  </html>\n",
      "\n"
     ]
    }
   ],
   "source": [
    "import requests\n",
    "\n",
    "# Fetch a web page\n",
    "r = requests.get(\"https://news.ycombinator.com\")\n",
    "print(r.text)"
   ]
  },
  {
   "cell_type": "code",
   "execution_count": 68,
   "id": "9a2cfe53",
   "metadata": {},
   "outputs": [
    {
     "name": "stdout",
     "output_type": "stream",
     "text": [
      "\n",
      "        \n",
      "          \n",
      "        Hacker News\n",
      "        \n",
      "                  Hacker News\n",
      "                            new | past | comments | ask | show | jobs | submit            \n",
      "                              login\n",
      "                          \n",
      "              \n",
      "\n",
      "            \n",
      "      1.      Open Assistant – project meant to give everyone access to a great chat based LLM (github.com/laion-ai)\n",
      "          238 points by pps 2 hours ago  | hide | 91&nbsp;comments        \n",
      "              \n",
      "      \n",
      "                \n",
      "      2.      ESP32 Buyer’s Guide: Different Chips, Firmware, Sensors (eitherway.io)\n",
      "          229 points by eitherway 5 hours ago  | hide | 102&nbsp;comments        \n",
      "              \n",
      "      \n",
      "                \n",
      "      3.      Open Assistant: Conversational AI for Everyone (open-assistant.io)\n",
      "          108 points by chriskanan 3 hours ago  | hide | 11&nbsp;comments        \n",
      "              \n",
      "      \n",
      "                \n",
      "      4.      Protocol Labs is laying off 21% of staff (89 people) (protocol.ai)\n",
      "          74 points by throwaway257m 3 hours ago  | hide | 47&nbsp;comments        \n",
      "              \n",
      "      \n",
      "                \n",
      "      5.      FOSDEM 2023 is live now (fosdem.org)\n",
      "          241 points by 0x54MUR41 7 hours ago  | hide | 29&nbsp;comments        \n",
      "              \n",
      "      \n",
      "                \n",
      "      6.      The War for Iron (science.org)\n",
      "          76 points by etiam 4 hours ago  | hide | 22&nbsp;comments        \n",
      "              \n",
      "      \n",
      "                \n",
      "      7.             Patterns (YC S21) is hiring to build the best AI app dev platform (ycombinator.com)\n",
      "        42 minutes ago | hide      \n",
      "      \n",
      "                \n",
      "      8.      2000 Years of Matrix Multiplication (st-andrews.ac.uk)\n",
      "          122 points by nothrowaways 6 hours ago  | hide | 12&nbsp;comments        \n",
      "              \n",
      "      \n",
      "                \n",
      "      9.      Understanding the limits of large language models (inorris.com)\n",
      "          7 points by IanNorris 34 minutes ago  | hide | discuss        \n",
      "              \n",
      "      \n",
      "                \n",
      "      10.      Mesa 23.1 Includes Asahi Linux Gallium3D Driver Progress (freedesktop.org)\n",
      "          4 points by cf100clunk 16 minutes ago  | hide | discuss        \n",
      "              \n",
      "      \n",
      "                \n",
      "      11.      Reverse-Engineering YouTube: Revisited (tyrrrz.me)\n",
      "          104 points by tyrrrz 5 hours ago  | hide | 14&nbsp;comments        \n",
      "              \n",
      "      \n",
      "                \n",
      "      12.      Air-to-Air Heat Exchangers for Healthier Energy-Efficient Homes (ndsu.edu)\n",
      "          191 points by MengerSponge 9 hours ago  | hide | 90&nbsp;comments        \n",
      "              \n",
      "      \n",
      "                \n",
      "      13.      MIT engineers develop a new way to remove carbon dioxide from air (2019) (news.mit.edu)\n",
      "          67 points by gozzoo 5 hours ago  | hide | 47&nbsp;comments        \n",
      "              \n",
      "      \n",
      "                \n",
      "      14.      Setuid in Unix created to enable a game (tuhs.org)\n",
      "          43 points by zdw 4 hours ago  | hide | 3&nbsp;comments        \n",
      "              \n",
      "      \n",
      "                \n",
      "      15.      The Science of Wi-Fi on Airplanes (2019) (onezero.medium.com)\n",
      "          15 points by tosh 1 hour ago  | hide | 1&nbsp;comment        \n",
      "              \n",
      "      \n",
      "                \n",
      "      16.      Scryer Prolog (scryer.pl)\n",
      "          69 points by aarroyoc 6 hours ago  | hide | 15&nbsp;comments        \n",
      "              \n",
      "      \n",
      "                \n",
      "      17.      De-Bloated Windows 11 Build Runs on 2GB of RAM (tomshardware.com)\n",
      "          129 points by smusamashah 3 hours ago  | hide | 93&nbsp;comments        \n",
      "              \n",
      "      \n",
      "                \n",
      "      18.      LVFS – Linux Vendor Firmware Service (fwupd.org)\n",
      "          8 points by nickexyz 2 hours ago  | hide | 4&nbsp;comments        \n",
      "              \n",
      "      \n",
      "                \n",
      "      19.      Reliable event dispatching using a transactional outbox (frankdejonge.nl)\n",
      "          13 points by losfair 2 hours ago  | hide | 1&nbsp;comment        \n",
      "              \n",
      "      \n",
      "                \n",
      "      20.      The plateauing of cognitive ability among top earners (oup.com)\n",
      "          136 points by luu 5 hours ago  | hide | 117&nbsp;comments        \n",
      "              \n",
      "      \n",
      "                \n",
      "      21.      A Maine community comes together to save a candlepin bowling tradition (gpb.org)\n",
      "          63 points by Tomte 8 hours ago  | hide | 34&nbsp;comments        \n",
      "              \n",
      "      \n",
      "                \n",
      "      22.      AMD Killed the Itanium (2005) (utoronto.ca)\n",
      "          134 points by todsacerdoti 12 hours ago  | hide | 172&nbsp;comments        \n",
      "              \n",
      "      \n",
      "                \n",
      "      23.      Colombian judge used ChatGPT to make court decision (vice.com)\n",
      "          48 points by azefiel 2 hours ago  | hide | 27&nbsp;comments        \n",
      "              \n",
      "      \n",
      "                \n",
      "      24.      Solving the cube root of 19,683 mentally (nigamanth.com)\n",
      "          108 points by nigamanth 11 hours ago  | hide | 72&nbsp;comments        \n",
      "              \n",
      "      \n",
      "                \n",
      "      25.      Everything You Can’t Have (collabfund.com)\n",
      "          66 points by toto444 7 hours ago  | hide | 63&nbsp;comments        \n",
      "              \n",
      "      \n",
      "                \n",
      "      26.      Did David Hume retract 2 essays on immorality to avoid religious controversy? (retractionwatch.com)\n",
      "          35 points by samizdis 7 hours ago  | hide | 16&nbsp;comments        \n",
      "              \n",
      "      \n",
      "                \n",
      "      27.      Pluggable Authentication Modules (PAM) (netbsd.org)\n",
      "          27 points by networked 6 hours ago  | hide | 5&nbsp;comments        \n",
      "              \n",
      "      \n",
      "                \n",
      "      28.      Astronomers uncover a one-in-ten-billion binary star system (sciencedaily.com)\n",
      "          45 points by jdmark 3 hours ago  | hide | 5&nbsp;comments        \n",
      "              \n",
      "      \n",
      "                \n",
      "      29.      Rewrite, refactor, or reinvent? Lessons from 6 software rewrite stories (2019) (herbcaudill.com)\n",
      "          113 points by akkartik 14 hours ago  | hide | 38&nbsp;comments        \n",
      "              \n",
      "      \n",
      "                \n",
      "      30.      How the ARPANET Protocols Worked (2021) (twobithistory.org)\n",
      "          69 points by whatrocks 12 hours ago  | hide | 2&nbsp;comments        \n",
      "              \n",
      "      \n",
      "            \n",
      "      More    \n",
      "  \n",
      "\n",
      "\n",
      "Guidelines | FAQ | Lists | API | Security | Legal | Apply to YC | Contact\n",
      "Search:       \n",
      "      \n",
      "  \n",
      "\n"
     ]
    }
   ],
   "source": [
    "import re\n",
    "\n",
    "# Remove HTML tags using RegEx\n",
    "pattern = re.compile(r'<.*?>')  # tags look like <...>\n",
    "print(pattern.sub('', r.text))  # replace them with blank"
   ]
  },
  {
   "cell_type": "code",
   "execution_count": 69,
   "id": "d8a70b77",
   "metadata": {},
   "outputs": [
    {
     "name": "stdout",
     "output_type": "stream",
     "text": [
      "\n",
      "        \n",
      "          \n",
      "        Hacker News\n",
      "        \n",
      "                  Hacker News\n",
      "                            new | past | comments | ask | show | jobs | submit            \n",
      "                              login\n",
      "                          \n",
      "              \n",
      "\n",
      "            \n",
      "      1.      Open Assistant – project meant to give everyone access to a great chat based LLM (github.com/laion-ai)\n",
      "          238 points by pps 2 hours ago  | hide | 91 comments        \n",
      "              \n",
      "      \n",
      "                \n",
      "      2.      ESP32 Buyer’s Guide: Different Chips, Firmware, Sensors (eitherway.io)\n",
      "          229 points by eitherway 5 hours ago  | hide | 102 comments        \n",
      "              \n",
      "      \n",
      "                \n",
      "      3.      Open Assistant: Conversational AI for Everyone (open-assistant.io)\n",
      "          108 points by chriskanan 3 hours ago  | hide | 11 comments        \n",
      "              \n",
      "      \n",
      "                \n",
      "      4.      Protocol Labs is laying off 21% of staff (89 people) (protocol.ai)\n",
      "          74 points by throwaway257m 3 hours ago  | hide | 47 comments        \n",
      "              \n",
      "      \n",
      "                \n",
      "      5.      FOSDEM 2023 is live now (fosdem.org)\n",
      "          241 points by 0x54MUR41 7 hours ago  | hide | 29 comments        \n",
      "              \n",
      "      \n",
      "                \n",
      "      6.      The War for Iron (science.org)\n",
      "          76 points by etiam 4 hours ago  | hide | 22 comments        \n",
      "              \n",
      "      \n",
      "                \n",
      "      7.             Patterns (YC S21) is hiring to build the best AI app dev platform (ycombinator.com)\n",
      "        42 minutes ago | hide      \n",
      "      \n",
      "                \n",
      "      8.      2000 Years of Matrix Multiplication (st-andrews.ac.uk)\n",
      "          122 points by nothrowaways 6 hours ago  | hide | 12 comments        \n",
      "              \n",
      "      \n",
      "                \n",
      "      9.      Understanding the limits of large language models (inorris.com)\n",
      "          7 points by IanNorris 34 minutes ago  | hide | discuss        \n",
      "              \n",
      "      \n",
      "                \n",
      "      10.      Mesa 23.1 Includes Asahi Linux Gallium3D Driver Progress (freedesktop.org)\n",
      "          4 points by cf100clunk 16 minutes ago  | hide | discuss        \n",
      "              \n",
      "      \n",
      "                \n",
      "      11.      Reverse-Engineering YouTube: Revisited (tyrrrz.me)\n",
      "          104 points by tyrrrz 5 hours ago  | hide | 14 comments        \n",
      "              \n",
      "      \n",
      "                \n",
      "      12.      Air-to-Air Heat Exchangers for Healthier Energy-Efficient Homes (ndsu.edu)\n",
      "          191 points by MengerSponge 9 hours ago  | hide | 90 comments        \n",
      "              \n",
      "      \n",
      "                \n",
      "      13.      MIT engineers develop a new way to remove carbon dioxide from air (2019) (news.mit.edu)\n",
      "          67 points by gozzoo 5 hours ago  | hide | 47 comments        \n",
      "              \n",
      "      \n",
      "                \n",
      "      14.      Setuid in Unix created to enable a game (tuhs.org)\n",
      "          43 points by zdw 4 hours ago  | hide | 3 comments        \n",
      "              \n",
      "      \n",
      "                \n",
      "      15.      The Science of Wi-Fi on Airplanes (2019) (onezero.medium.com)\n",
      "          15 points by tosh 1 hour ago  | hide | 1 comment        \n",
      "              \n",
      "      \n",
      "                \n",
      "      16.      Scryer Prolog (scryer.pl)\n",
      "          69 points by aarroyoc 6 hours ago  | hide | 15 comments        \n",
      "              \n",
      "      \n",
      "                \n",
      "      17.      De-Bloated Windows 11 Build Runs on 2GB of RAM (tomshardware.com)\n",
      "          129 points by smusamashah 3 hours ago  | hide | 93 comments        \n",
      "              \n",
      "      \n",
      "                \n",
      "      18.      LVFS – Linux Vendor Firmware Service (fwupd.org)\n",
      "          8 points by nickexyz 2 hours ago  | hide | 4 comments        \n",
      "              \n",
      "      \n",
      "                \n",
      "      19.      Reliable event dispatching using a transactional outbox (frankdejonge.nl)\n",
      "          13 points by losfair 2 hours ago  | hide | 1 comment        \n",
      "              \n",
      "      \n",
      "                \n",
      "      20.      The plateauing of cognitive ability among top earners (oup.com)\n",
      "          136 points by luu 5 hours ago  | hide | 117 comments        \n",
      "              \n",
      "      \n",
      "                \n",
      "      21.      A Maine community comes together to save a candlepin bowling tradition (gpb.org)\n",
      "          63 points by Tomte 8 hours ago  | hide | 34 comments        \n",
      "              \n",
      "      \n",
      "                \n",
      "      22.      AMD Killed the Itanium (2005) (utoronto.ca)\n",
      "          134 points by todsacerdoti 12 hours ago  | hide | 172 comments        \n",
      "              \n",
      "      \n",
      "                \n",
      "      23.      Colombian judge used ChatGPT to make court decision (vice.com)\n",
      "          48 points by azefiel 2 hours ago  | hide | 27 comments        \n",
      "              \n",
      "      \n",
      "                \n",
      "      24.      Solving the cube root of 19,683 mentally (nigamanth.com)\n",
      "          108 points by nigamanth 11 hours ago  | hide | 72 comments        \n",
      "              \n",
      "      \n",
      "                \n",
      "      25.      Everything You Can’t Have (collabfund.com)\n",
      "          66 points by toto444 7 hours ago  | hide | 63 comments        \n",
      "              \n",
      "      \n",
      "                \n",
      "      26.      Did David Hume retract 2 essays on immorality to avoid religious controversy? (retractionwatch.com)\n",
      "          35 points by samizdis 7 hours ago  | hide | 16 comments        \n",
      "              \n",
      "      \n",
      "                \n",
      "      27.      Pluggable Authentication Modules (PAM) (netbsd.org)\n",
      "          27 points by networked 6 hours ago  | hide | 5 comments        \n",
      "              \n",
      "      \n",
      "                \n",
      "      28.      Astronomers uncover a one-in-ten-billion binary star system (sciencedaily.com)\n",
      "          45 points by jdmark 3 hours ago  | hide | 5 comments        \n",
      "              \n",
      "      \n",
      "                \n",
      "      29.      Rewrite, refactor, or reinvent? Lessons from 6 software rewrite stories (2019) (herbcaudill.com)\n",
      "          113 points by akkartik 14 hours ago  | hide | 38 comments        \n",
      "              \n",
      "      \n",
      "                \n",
      "      30.      How the ARPANET Protocols Worked (2021) (twobithistory.org)\n",
      "          69 points by whatrocks 12 hours ago  | hide | 2 comments        \n",
      "              \n",
      "      \n",
      "            \n",
      "      More    \n",
      "  \n",
      "\n",
      "\n",
      "Guidelines | FAQ | Lists | API | Security | Legal | Apply to YC | Contact\n",
      "Search:       \n",
      "      \n",
      "  \n",
      "\n"
     ]
    }
   ],
   "source": [
    "from bs4 import BeautifulSoup\n",
    "\n",
    "# Remove HTML tags using Beautiful Soup library\n",
    "soup = BeautifulSoup(r.text, \"html5lib\")\n",
    "print(soup.get_text())"
   ]
  },
  {
   "cell_type": "code",
   "execution_count": 70,
   "id": "d85c095f",
   "metadata": {},
   "outputs": [
    {
     "data": {
      "text/plain": [
       "<tr class=\"athing\" id=\"34654937\">\n",
       "      <td align=\"right\" class=\"title\" valign=\"top\"><span class=\"rank\">1.</span></td>      <td class=\"votelinks\" valign=\"top\"><center><a href=\"vote?id=34654937&amp;how=up&amp;goto=news\" id=\"up_34654937\"><div class=\"votearrow\" title=\"upvote\"></div></a></center></td><td class=\"title\"><span class=\"titleline\"><a href=\"https://github.com/LAION-AI/Open-Assistant\">Open Assistant – project meant to give everyone access to a great chat based LLM</a><span class=\"sitebit comhead\"> (<a href=\"from?site=github.com/laion-ai\"><span class=\"sitestr\">github.com/laion-ai</span></a>)</span></span></td></tr>"
      ]
     },
     "execution_count": 70,
     "metadata": {},
     "output_type": "execute_result"
    }
   ],
   "source": [
    "# Find all articles\n",
    "summaries = soup.find_all(\"tr\", class_=\"athing\")\n",
    "summaries[0]"
   ]
  },
  {
   "cell_type": "code",
   "execution_count": 72,
   "id": "943434cf",
   "metadata": {},
   "outputs": [],
   "source": [
    "# Extract title\n",
    "# summaries[0].find(\"a\", class_=\"title\").get_text().strip()"
   ]
  },
  {
   "cell_type": "markdown",
   "id": "1e2e8c43",
   "metadata": {},
   "source": [
    " # Normalisation\n"
   ]
  },
  {
   "cell_type": "code",
   "execution_count": 73,
   "id": "60d40e81",
   "metadata": {},
   "outputs": [
    {
     "name": "stdout",
     "output_type": "stream",
     "text": [
      "the first time you see the second renaissance it may look boring. look at it at least twice and definitely watch part 2. it will change your view of the matrix. are the human people the ones who started the war ? is ai a bad thing ?\n"
     ]
    }
   ],
   "source": [
    "text = \"The first time you see The Second Renaissance it may look boring. Look at it at least twice and definitely watch part 2. It will change your view of the matrix. Are the human people the ones who started the war ? Is AI a bad thing ?\"\n",
    "text = text.lower()\n",
    "print(text)"
   ]
  },
  {
   "cell_type": "code",
   "execution_count": 74,
   "id": "f0b64097",
   "metadata": {},
   "outputs": [
    {
     "name": "stdout",
     "output_type": "stream",
     "text": [
      "the first time you see the second renaissance it may look boring  look at it at least twice and definitely watch part 2  it will change your view of the matrix  are the human people the ones who started the war   is ai a bad thing  \n"
     ]
    }
   ],
   "source": [
    "import re\n",
    "text = re.sub(r\"[^a-zA-Z0-9]\", \" \", text)\n",
    "print(text)"
   ]
  },
  {
   "cell_type": "markdown",
   "id": "87a4d0e6",
   "metadata": {},
   "source": [
    "# Tokenisation + NLTK"
   ]
  },
  {
   "cell_type": "code",
   "execution_count": 84,
   "id": "c45567b5",
   "metadata": {},
   "outputs": [],
   "source": [
    "import os\n",
    "import nltk\n",
    "nltk.data.path.append(os.path.join(os.getcwd(), 'nltk_data'))\n",
    "text = \"Dr. Smith graduated from the University of Washington. He later started an analytics firm called Lux, which catered to enterprise customers.\""
   ]
  },
  {
   "cell_type": "code",
   "execution_count": 85,
   "id": "56ed22a0",
   "metadata": {},
   "outputs": [
    {
     "name": "stdout",
     "output_type": "stream",
     "text": [
      "['Dr.', 'Smith', 'graduated', 'from', 'the', 'University', 'of', 'Washington', '.', 'He', 'later', 'started', 'an', 'analytics', 'firm', 'called', 'Lux', ',', 'which', 'catered', 'to', 'enterprise', 'customers', '.']\n"
     ]
    }
   ],
   "source": [
    "from nltk.tokenize import word_tokenize\n",
    "\n",
    "words = word_tokenize(text)\n",
    "print(words)"
   ]
  },
  {
   "cell_type": "code",
   "execution_count": 86,
   "id": "bd2c9232",
   "metadata": {},
   "outputs": [
    {
     "name": "stdout",
     "output_type": "stream",
     "text": [
      "['Dr. Smith graduated from the University of Washington.', 'He later started an analytics firm called Lux, which catered to enterprise customers.']\n"
     ]
    }
   ],
   "source": [
    "from nltk.tokenize import sent_tokenize\n",
    "\n",
    "sentences = sent_tokenize(text)\n",
    "print(sentences)"
   ]
  },
  {
   "cell_type": "code",
   "execution_count": 102,
   "id": "5f451387",
   "metadata": {},
   "outputs": [
    {
     "name": "stderr",
     "output_type": "stream",
     "text": [
      "To https://github.com/CalesSla/NLPIntroduction.git\n",
      "   2fc1e8c8..d9765670  main -> main\n"
     ]
    }
   ],
   "source": [
    "!git push"
   ]
  },
  {
   "cell_type": "code",
   "execution_count": 103,
   "id": "278c40e1",
   "metadata": {},
   "outputs": [
    {
     "name": "stdout",
     "output_type": "stream",
     "text": [
      "['i', 'me', 'my', 'myself', 'we', 'our', 'ours', 'ourselves', 'you', \"you're\", \"you've\", \"you'll\", \"you'd\", 'your', 'yours', 'yourself', 'yourselves', 'he', 'him', 'his', 'himself', 'she', \"she's\", 'her', 'hers', 'herself', 'it', \"it's\", 'its', 'itself', 'they', 'them', 'their', 'theirs', 'themselves', 'what', 'which', 'who', 'whom', 'this', 'that', \"that'll\", 'these', 'those', 'am', 'is', 'are', 'was', 'were', 'be', 'been', 'being', 'have', 'has', 'had', 'having', 'do', 'does', 'did', 'doing', 'a', 'an', 'the', 'and', 'but', 'if', 'or', 'because', 'as', 'until', 'while', 'of', 'at', 'by', 'for', 'with', 'about', 'against', 'between', 'into', 'through', 'during', 'before', 'after', 'above', 'below', 'to', 'from', 'up', 'down', 'in', 'out', 'on', 'off', 'over', 'under', 'again', 'further', 'then', 'once', 'here', 'there', 'when', 'where', 'why', 'how', 'all', 'any', 'both', 'each', 'few', 'more', 'most', 'other', 'some', 'such', 'no', 'nor', 'not', 'only', 'own', 'same', 'so', 'than', 'too', 'very', 's', 't', 'can', 'will', 'just', 'don', \"don't\", 'should', \"should've\", 'now', 'd', 'll', 'm', 'o', 're', 've', 'y', 'ain', 'aren', \"aren't\", 'couldn', \"couldn't\", 'didn', \"didn't\", 'doesn', \"doesn't\", 'hadn', \"hadn't\", 'hasn', \"hasn't\", 'haven', \"haven't\", 'isn', \"isn't\", 'ma', 'mightn', \"mightn't\", 'mustn', \"mustn't\", 'needn', \"needn't\", 'shan', \"shan't\", 'shouldn', \"shouldn't\", 'wasn', \"wasn't\", 'weren', \"weren't\", 'won', \"won't\", 'wouldn', \"wouldn't\"]\n"
     ]
    }
   ],
   "source": [
    "from nltk.corpus import stopwords\n",
    "print(stopwords.words('english'))"
   ]
  },
  {
   "cell_type": "code",
   "execution_count": 105,
   "id": "9414487a",
   "metadata": {},
   "outputs": [
    {
     "name": "stdout",
     "output_type": "stream",
     "text": [
      "['Dr.', 'Smith', 'graduated', 'University', 'Washington', '.', 'He', 'later', 'started', 'analytics', 'firm', 'called', 'Lux', ',', 'catered', 'enterprise', 'customers', '.']\n"
     ]
    }
   ],
   "source": [
    "words = [w for w in words if w not in stopwords.words('english')]\n",
    "print(words)"
   ]
  },
  {
   "cell_type": "markdown",
   "id": "95412449",
   "metadata": {},
   "source": [
    "# Part of Speech Tagging"
   ]
  },
  {
   "cell_type": "code",
   "execution_count": 107,
   "id": "b968a9f8",
   "metadata": {},
   "outputs": [
    {
     "data": {
      "text/plain": [
       "[('I', 'PRP'),\n",
       " ('shot', 'VBP'),\n",
       " ('an', 'DT'),\n",
       " ('elephan', 'NN'),\n",
       " ('in', 'IN'),\n",
       " ('my', 'PRP$'),\n",
       " ('pajamas', 'NN'),\n",
       " ('.', '.')]"
      ]
     },
     "execution_count": 107,
     "metadata": {},
     "output_type": "execute_result"
    }
   ],
   "source": [
    "from nltk import pos_tag\n",
    "\n",
    "sentence = word_tokenize('I shot an elephan in my pajamas.')\n",
    "pos_tag(sentence)"
   ]
  },
  {
   "cell_type": "code",
   "execution_count": null,
   "id": "6b2bb5d5",
   "metadata": {},
   "outputs": [],
   "source": [
    "!git add .\n",
    "!git commit -m \"remove stopwords and implement POS ta\""
   ]
  }
 ],
 "metadata": {
  "kernelspec": {
   "display_name": "Python 3 (ipykernel)",
   "language": "python",
   "name": "python3"
  },
  "language_info": {
   "codemirror_mode": {
    "name": "ipython",
    "version": 3
   },
   "file_extension": ".py",
   "mimetype": "text/x-python",
   "name": "python",
   "nbconvert_exporter": "python",
   "pygments_lexer": "ipython3",
   "version": "3.9.7"
  }
 },
 "nbformat": 4,
 "nbformat_minor": 5
}
